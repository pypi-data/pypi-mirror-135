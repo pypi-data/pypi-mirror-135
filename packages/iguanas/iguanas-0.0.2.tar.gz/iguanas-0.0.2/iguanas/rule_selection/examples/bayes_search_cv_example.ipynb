{
 "cells": [
  {
   "cell_type": "markdown",
   "source": [
    "# Bayes Search CV Example"
   ],
   "metadata": {}
  },
  {
   "cell_type": "markdown",
   "source": [
    "The `BayesSearchCV` class is used to search for the best parameters for a given Iguanas Pipeline.\n",
    "\n",
    "The process is as follows:\n",
    "\n",
    "* Generate k-fold stratified cross validation datasets. \n",
    "* For each of the training and validation datasets:\n",
    "    * Fit the pipeline on the training set using a set of parameters chosen by the Bayesian Optimiser from a given set of ranges.\n",
    "    * Apply the pipeline to the validation set to return a prediction.\n",
    "    * Use the provided `scorer` to calculate the score of the prediction.\n",
    "* Return the parameter set which generated the highest mean overall score across the validation datasets."
   ],
   "metadata": {}
  },
  {
   "cell_type": "markdown",
   "source": [
    "---"
   ],
   "metadata": {}
  },
  {
   "cell_type": "markdown",
   "source": [
    "## Import packages"
   ],
   "metadata": {}
  },
  {
   "cell_type": "code",
   "execution_count": 1,
   "source": [
    "from iguanas.rule_generation import RuleGeneratorDT\n",
    "from iguanas.rule_selection import SimpleFilter, CorrelatedFilter, BayesSearchCV\n",
    "from iguanas.metrics import FScore, JaccardSimilarity\n",
    "from iguanas.rbs import RBSOptimiser, RBSPipeline\n",
    "from iguanas.correlation_reduction import AgglomerativeClusteringReducer\n",
    "from iguanas.pipeline import LinearPipeline\n",
    "from iguanas.pipeline.class_accessor import ClassAccessor\n",
    "from iguanas.space import UniformFloat, UniformInteger, Choice\n",
    "\n",
    "import pandas as pd\n",
    "from sklearn.model_selection import train_test_split\n",
    "from category_encoders.one_hot import OneHotEncoder\n",
    "from sklearn.ensemble import RandomForestClassifier"
   ],
   "outputs": [],
   "metadata": {}
  },
  {
   "cell_type": "markdown",
   "source": [
    "## Read in data"
   ],
   "metadata": {}
  },
  {
   "cell_type": "markdown",
   "source": [
    "Let's read in the famous Titanic data set and split it into training and test sets:"
   ],
   "metadata": {}
  },
  {
   "cell_type": "code",
   "execution_count": 2,
   "source": [
    "df = pd.read_csv('../../../examples/dummy_data/titanic.csv', index_col='PassengerId')\n",
    "target_col = 'Survived'\n",
    "cols_to_drop = ['Name', 'Ticket', 'Cabin']\n",
    "X = df.drop([target_col] + cols_to_drop, axis=1)\n",
    "y = df[target_col]"
   ],
   "outputs": [],
   "metadata": {}
  },
  {
   "cell_type": "code",
   "execution_count": 3,
   "source": [
    "X_train, X_test, y_train, y_test = train_test_split(\n",
    "    X,\n",
    "    y,\n",
    "    test_size=0.33,\n",
    "    random_state=42\n",
    ")"
   ],
   "outputs": [],
   "metadata": {}
  },
  {
   "cell_type": "markdown",
   "source": [
    "## Data processing"
   ],
   "metadata": {}
  },
  {
   "cell_type": "markdown",
   "source": [
    "Let's apply the following simple steps to process the data:\n",
    "\n",
    "* One hot encode categorical variables (accounting for nulls)\n",
    "* Impute numeric features with -1"
   ],
   "metadata": {}
  },
  {
   "cell_type": "code",
   "execution_count": 4,
   "source": [
    "# OHE\n",
    "encoder = OneHotEncoder(\n",
    "    use_cat_names=True\n",
    ")\n",
    "X_train = encoder.fit_transform(X_train)\n",
    "X_test = encoder.transform(X_test)\n",
    "\n",
    "# Impute\n",
    "X_train.fillna(-1, inplace=True)\n",
    "X_test.fillna(-1, inplace=True)"
   ],
   "outputs": [
    {
     "output_type": "stream",
     "name": "stderr",
     "text": [
      "/Users/jlaidler/venvs/iguanas_os_dev/lib/python3.8/site-packages/category_encoders/utils.py:21: FutureWarning: is_categorical is deprecated and will be removed in a future version.  Use is_categorical_dtype instead\n",
      "  elif pd.api.types.is_categorical(cols):\n"
     ]
    }
   ],
   "metadata": {}
  },
  {
   "cell_type": "markdown",
   "source": [
    "----"
   ],
   "metadata": {}
  },
  {
   "cell_type": "markdown",
   "source": [
    "## Set up pipeline"
   ],
   "metadata": {}
  },
  {
   "cell_type": "markdown",
   "source": [
    "Let's say that we want to apply the following processes as part of our pipeline:\n",
    "\n",
    "1. Rule generation step\n",
    "    * Use `RuleGeneratorDT` to generate rules using the processed data.\n",
    "2. Rule processing step\n",
    "    * Apply `SimpleFilter`.\n",
    "    * Apply `CorrelatedFilter`.\n",
    "3. Rule predictor step\n",
    "    * Use the `RBSOptimiser` to optimise an `RBSPipeline` for F1 score. This will create a rule predictor."
   ],
   "metadata": {}
  },
  {
   "cell_type": "markdown",
   "source": [
    "However, we don't know what pipeline hyperparameter values will generate the best F1 score for the final rule predictor. This is where the `BayesSearchCV` class comes in - **it allows us to find the best pipeline hyperparameter values whilst also reducing the likelihood of overfitting.**"
   ],
   "metadata": {}
  },
  {
   "cell_type": "markdown",
   "source": [
    "Let's first create the pipeline by instantiating the relevant classes:"
   ],
   "metadata": {}
  },
  {
   "cell_type": "code",
   "execution_count": 5,
   "source": [
    "f1 = FScore(beta=1)\n",
    "js = JaccardSimilarity()"
   ],
   "outputs": [],
   "metadata": {}
  },
  {
   "cell_type": "code",
   "execution_count": 6,
   "source": [
    "# Rule generation\n",
    "generator = RuleGeneratorDT(\n",
    "    metric=f1.fit,\n",
    "    n_total_conditions=4,\n",
    "    tree_ensemble=RandomForestClassifier(\n",
    "        n_estimators=10,\n",
    "        random_state=0\n",
    "    )\n",
    ")\n",
    "# Rule processing\n",
    "simple_filterer = SimpleFilter(\n",
    "    threshold=0.1, \n",
    "    operator='>=', \n",
    "    metric=f1.fit\n",
    ")\n",
    "corr_filterer = CorrelatedFilter(\n",
    "    correlation_reduction_class=AgglomerativeClusteringReducer(\n",
    "        threshold=0.9, \n",
    "        strategy='top_down', \n",
    "        similarity_function=js.fit, \n",
    "        metric=f1.fit\n",
    "    )\n",
    ")\n",
    "# Rule predictor\n",
    "rbs_pipeline = RBSPipeline(\n",
    "    config=[],\n",
    "    final_decision=0\n",
    ")\n",
    "rbs_optimiser = RBSOptimiser(\n",
    "    pipeline=rbs_pipeline,\n",
    "    metric=f1.fit, \n",
    "    pos_pred_rules=ClassAccessor(\n",
    "        class_tag='corr_filterer', \n",
    "        class_attribute='rules_to_keep'\n",
    "    ),\n",
    "    n_iter=10\n",
    ")"
   ],
   "outputs": [],
   "metadata": {}
  },
  {
   "cell_type": "markdown",
   "source": [
    "**Note:** the argument passed to the `pos_pred_rules` parameter in the `RBSOptimiser` class is a `ClassAccessor` object. This takes the names of the rules that remain after the `CorrelatedFilter` has been applied and passes it to the `pos_pred_rules` parameter of the `RBSOptimiser` class."
   ],
   "metadata": {}
  },
  {
   "cell_type": "markdown",
   "source": [
    "Now we can create the steps of our pipeline. Each step should be a tuple of two elements:\n",
    "\n",
    "1. The first element should be a string which refers to the step.\n",
    "2. The second element should be the instantiated class which is run as part of the pipeline."
   ],
   "metadata": {}
  },
  {
   "cell_type": "code",
   "execution_count": 7,
   "source": [
    "steps = [\n",
    "    ('generator', generator),\n",
    "    ('simple_filterer', simple_filterer),\n",
    "    ('corr_filterer', corr_filterer),\n",
    "    ('rbs_optimiser', rbs_optimiser)\n",
    "]"
   ],
   "outputs": [],
   "metadata": {}
  },
  {
   "cell_type": "markdown",
   "source": [
    "Finally, we can instantiate our pipeline:"
   ],
   "metadata": {}
  },
  {
   "cell_type": "code",
   "execution_count": 8,
   "source": [
    "lp = LinearPipeline(steps=steps)"
   ],
   "outputs": [],
   "metadata": {}
  },
  {
   "cell_type": "markdown",
   "source": [
    "## Define the search space"
   ],
   "metadata": {}
  },
  {
   "cell_type": "markdown",
   "source": [
    "Now we need to define the search space for each of the relevant parameters of our pipeline. To do this, we create a dictionary, where each key corresponds to the tag used for the relevant pipeline step. Each value should be a dictionary of the parameters (keys) and their search spaces (values). Search spaces should be defined using the classes in the `iguanas.space` module:"
   ],
   "metadata": {}
  },
  {
   "cell_type": "code",
   "execution_count": 9,
   "source": [
    "search_spaces = {\n",
    "    'generator': {\n",
    "        'n_total_conditions': UniformInteger(1, 5),\n",
    "        'target_feat_corr_types': Choice([\n",
    "            'Infer',\n",
    "            None\n",
    "        ])\n",
    "    },\n",
    "    'simple_filterer': {\n",
    "        'threshold': UniformFloat(0, 1),\n",
    "    },\n",
    "    'corr_filterer': {\n",
    "        'threshold': UniformFloat(0, 1)\n",
    "    },    \n",
    "}"
   ],
   "outputs": [],
   "metadata": {}
  },
  {
   "cell_type": "markdown",
   "source": [
    "Based on the search spaces above, we'll be optimising the following parameters across the following ranges:\n",
    "\n",
    "* **generator**\n",
    "    * `n_total_conditions`: Integers from 1 to 5\n",
    "    * `target_feat_corr_types`: Either 'Infer' or None.\n",
    "* **simple_filterer**\n",
    "    * `threshold`: Floats from 0 to 1\n",
    "* **corr_filterer**\n",
    "    * `threshold`: Floats from 0 to 1"
   ],
   "metadata": {}
  },
  {
   "cell_type": "markdown",
   "source": [
    "## Optimise the pipeline hyperparameters"
   ],
   "metadata": {}
  },
  {
   "cell_type": "markdown",
   "source": [
    "Now that we have our pipeline and search spaces defined, we can instantiate the `BayesSearchCV` class. We'll split our data into 3 cross-validation datasets and try 20 different parameter sets:"
   ],
   "metadata": {}
  },
  {
   "cell_type": "code",
   "execution_count": 35,
   "source": [
    "bs = BayesSearchCV(\n",
    "    pipeline=lp, \n",
    "    search_spaces=search_spaces, \n",
    "    metric=f1.fit, \n",
    "    cv=3, \n",
    "    n_iter=15,\n",
    "    num_cores=3,\n",
    "    error_score=0,\n",
    "    verbose=1\n",
    ")"
   ],
   "outputs": [],
   "metadata": {}
  },
  {
   "cell_type": "markdown",
   "source": [
    "Finally, we can run the `fit` method to optimise the hyperparameters of the pipeline:"
   ],
   "metadata": {}
  },
  {
   "cell_type": "code",
   "execution_count": 36,
   "source": [
    "bs.fit(X_train, y_train)"
   ],
   "outputs": [
    {
     "output_type": "stream",
     "name": "stdout",
     "text": [
      "--- Optimising pipeline parameters ---\n",
      " 13%|█▎        | 2/15 [00:04<00:23,  1.80s/trial, best loss: -0.6354597846910178]"
     ]
    },
    {
     "output_type": "stream",
     "name": "stderr",
     "text": [
      "/Users/jlaidler/Documents/argo/iguanas/rule_selection/bayes_search_cv.py:349: UserWarning: No rules remaining for: Pipeline parameter set = {'corr_filterer': {'threshold': 0.20136504357069684}, 'generator': {'n_total_conditions': 4.0, 'target_feat_corr_types': None}, 'simple_filterer': {'threshold': 0.5309641649521473}}; Fold index = 1. The metric score for this parameter set & fold will be set to 0\n",
      "  warnings.warn(\n",
      "/Users/jlaidler/Documents/argo/iguanas/rule_selection/bayes_search_cv.py:349: UserWarning: No rules remaining for: Pipeline parameter set = {'corr_filterer': {'threshold': 0.20136504357069684}, 'generator': {'n_total_conditions': 4.0, 'target_feat_corr_types': None}, 'simple_filterer': {'threshold': 0.5309641649521473}}; Fold index = 2. The metric score for this parameter set & fold will be set to 0\n",
      "  warnings.warn(\n"
     ]
    },
    {
     "output_type": "stream",
     "name": "stdout",
     "text": [
      " 27%|██▋       | 4/15 [00:12<00:31,  2.84s/trial, best loss: -0.6354597846910178]"
     ]
    },
    {
     "output_type": "stream",
     "name": "stderr",
     "text": [
      "/Users/jlaidler/Documents/argo/iguanas/rule_selection/bayes_search_cv.py:349: UserWarning: No rules remaining for: Pipeline parameter set = {'corr_filterer': {'threshold': 0.8788893237074139}, 'generator': {'n_total_conditions': 1.0, 'target_feat_corr_types': None}, 'simple_filterer': {'threshold': 0.5286917420754508}}; Fold index = 0. The metric score for this parameter set & fold will be set to 0\n",
      "  warnings.warn(\n"
     ]
    },
    {
     "output_type": "stream",
     "name": "stdout",
     "text": [
      " 47%|████▋     | 7/15 [00:15<00:11,  1.43s/trial, best loss: -0.6354597846910178]"
     ]
    },
    {
     "output_type": "stream",
     "name": "stderr",
     "text": [
      "/Users/jlaidler/Documents/argo/iguanas/rule_selection/bayes_search_cv.py:349: UserWarning: No rules remaining for: Pipeline parameter set = {'corr_filterer': {'threshold': 0.42667840038368754}, 'generator': {'n_total_conditions': 3.0, 'target_feat_corr_types': 'Infer'}, 'simple_filterer': {'threshold': 0.8381663825532006}}; Fold index = 0. The metric score for this parameter set & fold will be set to 0\n",
      "  warnings.warn(\n",
      "/Users/jlaidler/Documents/argo/iguanas/rule_selection/bayes_search_cv.py:349: UserWarning: No rules remaining for: Pipeline parameter set = {'corr_filterer': {'threshold': 0.42667840038368754}, 'generator': {'n_total_conditions': 3.0, 'target_feat_corr_types': 'Infer'}, 'simple_filterer': {'threshold': 0.8381663825532006}}; Fold index = 1. The metric score for this parameter set & fold will be set to 0\n",
      "  warnings.warn(\n",
      "/Users/jlaidler/Documents/argo/iguanas/rule_selection/bayes_search_cv.py:349: UserWarning: No rules remaining for: Pipeline parameter set = {'corr_filterer': {'threshold': 0.42667840038368754}, 'generator': {'n_total_conditions': 3.0, 'target_feat_corr_types': 'Infer'}, 'simple_filterer': {'threshold': 0.8381663825532006}}; Fold index = 2. The metric score for this parameter set & fold will be set to 0\n",
      "  warnings.warn(\n",
      "/Users/jlaidler/Documents/argo/iguanas/rule_selection/bayes_search_cv.py:349: UserWarning: No rules remaining for: Pipeline parameter set = {'corr_filterer': {'threshold': 0.48162604260652686}, 'generator': {'n_total_conditions': 2.0, 'target_feat_corr_types': None}, 'simple_filterer': {'threshold': 0.9671312248842996}}; Fold index = 0. The metric score for this parameter set & fold will be set to 0\n",
      "  warnings.warn(\n",
      "/Users/jlaidler/Documents/argo/iguanas/rule_selection/bayes_search_cv.py:349: UserWarning: No rules remaining for: Pipeline parameter set = {'corr_filterer': {'threshold': 0.48162604260652686}, 'generator': {'n_total_conditions': 2.0, 'target_feat_corr_types': None}, 'simple_filterer': {'threshold': 0.9671312248842996}}; Fold index = 1. The metric score for this parameter set & fold will be set to 0\n",
      "  warnings.warn(\n",
      "/Users/jlaidler/Documents/argo/iguanas/rule_selection/bayes_search_cv.py:349: UserWarning: No rules remaining for: Pipeline parameter set = {'corr_filterer': {'threshold': 0.48162604260652686}, 'generator': {'n_total_conditions': 2.0, 'target_feat_corr_types': None}, 'simple_filterer': {'threshold': 0.9671312248842996}}; Fold index = 2. The metric score for this parameter set & fold will be set to 0\n",
      "  warnings.warn(\n"
     ]
    },
    {
     "output_type": "stream",
     "name": "stdout",
     "text": [
      " 87%|████████▋ | 13/15 [00:23<00:02,  1.05s/trial, best loss: -0.6354597846910178]"
     ]
    },
    {
     "output_type": "stream",
     "name": "stderr",
     "text": [
      "/Users/jlaidler/Documents/argo/iguanas/rule_selection/bayes_search_cv.py:349: UserWarning: No rules remaining for: Pipeline parameter set = {'corr_filterer': {'threshold': 0.04431348538932778}, 'generator': {'n_total_conditions': 5.0, 'target_feat_corr_types': None}, 'simple_filterer': {'threshold': 0.5445334019103376}}; Fold index = 0. The metric score for this parameter set & fold will be set to 0\n",
      "  warnings.warn(\n",
      "/Users/jlaidler/Documents/argo/iguanas/rule_selection/bayes_search_cv.py:349: UserWarning: No rules remaining for: Pipeline parameter set = {'corr_filterer': {'threshold': 0.04431348538932778}, 'generator': {'n_total_conditions': 5.0, 'target_feat_corr_types': None}, 'simple_filterer': {'threshold': 0.5445334019103376}}; Fold index = 1. The metric score for this parameter set & fold will be set to 0\n",
      "  warnings.warn(\n",
      "/Users/jlaidler/Documents/argo/iguanas/rule_selection/bayes_search_cv.py:349: UserWarning: No rules remaining for: Pipeline parameter set = {'corr_filterer': {'threshold': 0.04431348538932778}, 'generator': {'n_total_conditions': 5.0, 'target_feat_corr_types': None}, 'simple_filterer': {'threshold': 0.5445334019103376}}; Fold index = 2. The metric score for this parameter set & fold will be set to 0\n",
      "  warnings.warn(\n",
      "/Users/jlaidler/Documents/argo/iguanas/rule_selection/bayes_search_cv.py:349: UserWarning: No rules remaining for: Pipeline parameter set = {'corr_filterer': {'threshold': 0.36932379376669233}, 'generator': {'n_total_conditions': 1.0, 'target_feat_corr_types': None}, 'simple_filterer': {'threshold': 0.5552242499827413}}; Fold index = 0. The metric score for this parameter set & fold will be set to 0\n",
      "  warnings.warn(\n"
     ]
    },
    {
     "output_type": "stream",
     "name": "stdout",
     "text": [
      "100%|██████████| 15/15 [00:24<00:00,  1.61s/trial, best loss: -0.6965755602560381]\n",
      "--- Refitting on entire dataset with best pipeline ---\n"
     ]
    }
   ],
   "metadata": {}
  },
  {
   "cell_type": "markdown",
   "source": [
    "### Outputs"
   ],
   "metadata": {}
  },
  {
   "cell_type": "markdown",
   "source": [
    "The `fit` method doesn't return anything. See the `Attributes` section in the class docstring for a description of each attribute generated:"
   ],
   "metadata": {}
  },
  {
   "cell_type": "code",
   "execution_count": 37,
   "source": [
    "bs.best_score"
   ],
   "outputs": [
    {
     "output_type": "execute_result",
     "data": {
      "text/plain": [
       "0.6965755602560381"
      ]
     },
     "metadata": {},
     "execution_count": 37
    }
   ],
   "metadata": {}
  },
  {
   "cell_type": "code",
   "execution_count": 38,
   "source": [
    "bs.best_params"
   ],
   "outputs": [
    {
     "output_type": "execute_result",
     "data": {
      "text/plain": [
       "{'corr_filterer': {'threshold': 0.13637152094471683},\n",
       " 'generator': {'target_feat_corr_types': 'Infer'},\n",
       " 'simple_filterer': {'threshold': 0.6444172588081419}}"
      ]
     },
     "metadata": {},
     "execution_count": 38
    }
   ],
   "metadata": {}
  },
  {
   "cell_type": "code",
   "execution_count": 39,
   "source": [
    "bs.best_index"
   ],
   "outputs": [
    {
     "output_type": "execute_result",
     "data": {
      "text/plain": [
       "14"
      ]
     },
     "metadata": {},
     "execution_count": 39
    }
   ],
   "metadata": {}
  },
  {
   "cell_type": "code",
   "execution_count": 40,
   "source": [
    "bs.cv_results.head()"
   ],
   "outputs": [
    {
     "output_type": "execute_result",
     "data": {
      "text/plain": [
       "                                               Params  \\\n",
       "14  {'corr_filterer': {'threshold': 0.136371520944...   \n",
       "13  {'corr_filterer': {'threshold': 0.709546423751...   \n",
       "0   {'corr_filterer': {'threshold': 0.291012698379...   \n",
       "8   {'corr_filterer': {'threshold': 0.110728226805...   \n",
       "10  {'corr_filterer': {'threshold': 0.684872215972...   \n",
       "\n",
       "    corr_filterer__threshold  generator__n_total_conditions  \\\n",
       "14                  0.136372                            5.0   \n",
       "13                  0.709546                            2.0   \n",
       "0                   0.291013                            2.0   \n",
       "8                   0.110728                            2.0   \n",
       "10                  0.684872                            2.0   \n",
       "\n",
       "   generator__target_feat_corr_types  simple_filterer__threshold    FoldIdx  \\\n",
       "14                             Infer                    0.644417  [0, 1, 2]   \n",
       "13                             Infer                    0.388521  [0, 1, 2]   \n",
       "0                              Infer                    0.486047  [0, 1, 2]   \n",
       "8                              Infer                    0.510489  [0, 1, 2]   \n",
       "10                             Infer                    0.369537  [0, 1, 2]   \n",
       "\n",
       "                                               Scores  MeanScore  StdDevScore  \n",
       "14  [0.7092198581560283, 0.6842105263157895, 0.696...   0.696576     0.010212  \n",
       "13  [0.6783625730994152, 0.6153846153846154, 0.682...   0.658794     0.030745  \n",
       "0   [0.6359447004608295, 0.6355140186915889, 0.634...   0.635460     0.000420  \n",
       "8   [0.6359447004608295, 0.6355140186915889, 0.634...   0.635460     0.000420  \n",
       "10  [0.6120689655172414, 0.6534653465346535, 0.611...   0.625548     0.019744  "
      ],
      "text/html": [
       "<div>\n",
       "<style scoped>\n",
       "    .dataframe tbody tr th:only-of-type {\n",
       "        vertical-align: middle;\n",
       "    }\n",
       "\n",
       "    .dataframe tbody tr th {\n",
       "        vertical-align: top;\n",
       "    }\n",
       "\n",
       "    .dataframe thead th {\n",
       "        text-align: right;\n",
       "    }\n",
       "</style>\n",
       "<table border=\"1\" class=\"dataframe\">\n",
       "  <thead>\n",
       "    <tr style=\"text-align: right;\">\n",
       "      <th></th>\n",
       "      <th>Params</th>\n",
       "      <th>corr_filterer__threshold</th>\n",
       "      <th>generator__n_total_conditions</th>\n",
       "      <th>generator__target_feat_corr_types</th>\n",
       "      <th>simple_filterer__threshold</th>\n",
       "      <th>FoldIdx</th>\n",
       "      <th>Scores</th>\n",
       "      <th>MeanScore</th>\n",
       "      <th>StdDevScore</th>\n",
       "    </tr>\n",
       "  </thead>\n",
       "  <tbody>\n",
       "    <tr>\n",
       "      <th>14</th>\n",
       "      <td>{'corr_filterer': {'threshold': 0.136371520944...</td>\n",
       "      <td>0.136372</td>\n",
       "      <td>5.0</td>\n",
       "      <td>Infer</td>\n",
       "      <td>0.644417</td>\n",
       "      <td>[0, 1, 2]</td>\n",
       "      <td>[0.7092198581560283, 0.6842105263157895, 0.696...</td>\n",
       "      <td>0.696576</td>\n",
       "      <td>0.010212</td>\n",
       "    </tr>\n",
       "    <tr>\n",
       "      <th>13</th>\n",
       "      <td>{'corr_filterer': {'threshold': 0.709546423751...</td>\n",
       "      <td>0.709546</td>\n",
       "      <td>2.0</td>\n",
       "      <td>Infer</td>\n",
       "      <td>0.388521</td>\n",
       "      <td>[0, 1, 2]</td>\n",
       "      <td>[0.6783625730994152, 0.6153846153846154, 0.682...</td>\n",
       "      <td>0.658794</td>\n",
       "      <td>0.030745</td>\n",
       "    </tr>\n",
       "    <tr>\n",
       "      <th>0</th>\n",
       "      <td>{'corr_filterer': {'threshold': 0.291012698379...</td>\n",
       "      <td>0.291013</td>\n",
       "      <td>2.0</td>\n",
       "      <td>Infer</td>\n",
       "      <td>0.486047</td>\n",
       "      <td>[0, 1, 2]</td>\n",
       "      <td>[0.6359447004608295, 0.6355140186915889, 0.634...</td>\n",
       "      <td>0.635460</td>\n",
       "      <td>0.000420</td>\n",
       "    </tr>\n",
       "    <tr>\n",
       "      <th>8</th>\n",
       "      <td>{'corr_filterer': {'threshold': 0.110728226805...</td>\n",
       "      <td>0.110728</td>\n",
       "      <td>2.0</td>\n",
       "      <td>Infer</td>\n",
       "      <td>0.510489</td>\n",
       "      <td>[0, 1, 2]</td>\n",
       "      <td>[0.6359447004608295, 0.6355140186915889, 0.634...</td>\n",
       "      <td>0.635460</td>\n",
       "      <td>0.000420</td>\n",
       "    </tr>\n",
       "    <tr>\n",
       "      <th>10</th>\n",
       "      <td>{'corr_filterer': {'threshold': 0.684872215972...</td>\n",
       "      <td>0.684872</td>\n",
       "      <td>2.0</td>\n",
       "      <td>Infer</td>\n",
       "      <td>0.369537</td>\n",
       "      <td>[0, 1, 2]</td>\n",
       "      <td>[0.6120689655172414, 0.6534653465346535, 0.611...</td>\n",
       "      <td>0.625548</td>\n",
       "      <td>0.019744</td>\n",
       "    </tr>\n",
       "  </tbody>\n",
       "</table>\n",
       "</div>"
      ]
     },
     "metadata": {},
     "execution_count": 40
    }
   ],
   "metadata": {}
  },
  {
   "cell_type": "markdown",
   "source": [
    "## Apply the optimised pipeline"
   ],
   "metadata": {}
  },
  {
   "cell_type": "markdown",
   "source": [
    "We can apply our optimised pipeline to a new data set and make a prediction using the `predict` method:"
   ],
   "metadata": {}
  },
  {
   "cell_type": "code",
   "execution_count": 41,
   "source": [
    "y_pred_test = bs.predict(X_test)"
   ],
   "outputs": [],
   "metadata": {}
  },
  {
   "cell_type": "markdown",
   "source": [
    "### Outputs"
   ],
   "metadata": {}
  },
  {
   "cell_type": "markdown",
   "source": [
    "The `predict` method returns the prediction generated by class in the final step of the pipeline - in this case, the `RBSOptimiser`:"
   ],
   "metadata": {}
  },
  {
   "cell_type": "code",
   "execution_count": 42,
   "source": [
    "y_pred_test"
   ],
   "outputs": [
    {
     "output_type": "execute_result",
     "data": {
      "text/plain": [
       "PassengerId\n",
       "710    0\n",
       "440    0\n",
       "841    0\n",
       "721    1\n",
       "40     1\n",
       "      ..\n",
       "716    0\n",
       "526    0\n",
       "382    1\n",
       "141    1\n",
       "174    0\n",
       "Name: Stage=0, Decision=1, Length: 295, dtype: int64"
      ]
     },
     "metadata": {},
     "execution_count": 42
    }
   ],
   "metadata": {}
  },
  {
   "cell_type": "markdown",
   "source": [
    "We can now calculate the F1 score of our optimised pipeline using the test data:"
   ],
   "metadata": {}
  },
  {
   "cell_type": "code",
   "execution_count": 43,
   "source": [
    "f1_opt = f1.fit(y_pred_test, y_test)"
   ],
   "outputs": [],
   "metadata": {}
  },
  {
   "cell_type": "markdown",
   "source": [
    "Comparing this to our original, unoptimised pipeline:"
   ],
   "metadata": {}
  },
  {
   "cell_type": "code",
   "execution_count": 44,
   "source": [
    "lp.fit(X_train, y_train, None)\n",
    "y_pred_test_init = lp.predict(X_test)"
   ],
   "outputs": [],
   "metadata": {}
  },
  {
   "cell_type": "code",
   "execution_count": 45,
   "source": [
    "f1_init = f1.fit(y_pred_test_init, y_test)"
   ],
   "outputs": [],
   "metadata": {}
  },
  {
   "cell_type": "code",
   "execution_count": 46,
   "source": [
    "print(f'Percentage improvement in F1 score: {round(100*(f1_opt-f1_init)/f1_init, 2)}%')"
   ],
   "outputs": [
    {
     "output_type": "stream",
     "name": "stdout",
     "text": [
      "Percentage improvement in F1 score: 30.39%\n"
     ]
    }
   ],
   "metadata": {}
  },
  {
   "cell_type": "markdown",
   "source": [
    "---"
   ],
   "metadata": {}
  }
 ],
 "metadata": {
  "kernelspec": {
   "name": "python3",
   "display_name": "Python 3.8.9 64-bit ('iguanas_os_dev': venv)"
  },
  "language_info": {
   "codemirror_mode": {
    "name": "ipython",
    "version": 3
   },
   "file_extension": ".py",
   "mimetype": "text/x-python",
   "name": "python",
   "nbconvert_exporter": "python",
   "pygments_lexer": "ipython3",
   "version": "3.8.9"
  },
  "interpreter": {
   "hash": "6a5a22224d030f6805b27da964f50b3905be89918ca593f843e32c3b2a80fa84"
  }
 },
 "nbformat": 4,
 "nbformat_minor": 5
}