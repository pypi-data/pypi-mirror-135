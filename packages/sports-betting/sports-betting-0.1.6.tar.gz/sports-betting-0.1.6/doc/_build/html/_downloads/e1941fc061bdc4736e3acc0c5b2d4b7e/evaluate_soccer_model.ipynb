{
  "cells": [
    {
      "cell_type": "code",
      "execution_count": null,
      "metadata": {
        "collapsed": false
      },
      "outputs": [],
      "source": [
        "%matplotlib inline"
      ]
    },
    {
      "cell_type": "markdown",
      "metadata": {},
      "source": [
        "\n# Model evaluation\n\nThis example illustrates how to evaluate a model's performance \non soccer historical data.\n"
      ]
    },
    {
      "cell_type": "code",
      "execution_count": null,
      "metadata": {
        "collapsed": false
      },
      "outputs": [],
      "source": [
        "# Author: Georgios Douzas <gdouzas@icloud.com>\n# Licence: MIT\n\nimport numpy as np\nfrom sportsbet.datasets import SoccerDataLoader\nfrom sklearn.neighbors import KNeighborsClassifier"
      ]
    },
    {
      "cell_type": "markdown",
      "metadata": {},
      "source": [
        "## Extracting the training data\n\n"
      ]
    },
    {
      "cell_type": "markdown",
      "metadata": {},
      "source": [
        "We extract the training data for the spanish league. We also remove any\nmissing values and select the market maximum odds.\n\n"
      ]
    },
    {
      "cell_type": "code",
      "execution_count": null,
      "metadata": {
        "collapsed": false
      },
      "outputs": [],
      "source": [
        "dataloader = SoccerDataLoader(param_grid={'league': ['Spain']})\nX_train, Y_train, Odds_train = dataloader.extract_train_data(\n    drop_na_thres=1.0, odds_type='market_maximum'\n)"
      ]
    },
    {
      "cell_type": "markdown",
      "metadata": {},
      "source": [
        "The input data:\n\n"
      ]
    },
    {
      "cell_type": "code",
      "execution_count": null,
      "metadata": {
        "collapsed": false
      },
      "outputs": [],
      "source": [
        "X_train"
      ]
    },
    {
      "cell_type": "markdown",
      "metadata": {},
      "source": [
        "The targets:\n\n"
      ]
    },
    {
      "cell_type": "code",
      "execution_count": null,
      "metadata": {
        "collapsed": false
      },
      "outputs": [],
      "source": [
        "Y_train"
      ]
    },
    {
      "cell_type": "markdown",
      "metadata": {},
      "source": [
        "## Splitting the data\n\n"
      ]
    },
    {
      "cell_type": "markdown",
      "metadata": {},
      "source": [
        "We split the training data into training and testing data by keeping the\nfirst 80% of observations as training data, since the data are already\nsorted by date.\n\n"
      ]
    },
    {
      "cell_type": "code",
      "execution_count": null,
      "metadata": {
        "collapsed": false
      },
      "outputs": [],
      "source": [
        "ind = int(len(X_train) * 0.80)\nX_test, Y_test, Odds_test = X_train[ind:], Y_train[ind:], Odds_train[ind:]\nX_train, Y_train = X_train[:ind], Y_train[:ind]"
      ]
    },
    {
      "cell_type": "markdown",
      "metadata": {},
      "source": [
        "## Training a multi-output classifier\n\n"
      ]
    },
    {
      "cell_type": "markdown",
      "metadata": {},
      "source": [
        "We train a :class:`~sklearn.neighbors.KNeighborsClassifier` using only numerical\nfeatures from the input data. We also use the extracted targets.\n\n"
      ]
    },
    {
      "cell_type": "code",
      "execution_count": null,
      "metadata": {
        "collapsed": false
      },
      "outputs": [],
      "source": [
        "num_features = [\n    col\n    for col in X_train.columns\n    if X_train[col].dtype in (np.dtype(int), np.dtype(float))\n]\nclf = KNeighborsClassifier()\nclf.fit(X_train[num_features], Y_train)"
      ]
    },
    {
      "cell_type": "markdown",
      "metadata": {},
      "source": [
        "## Estimating the value bets\n\n"
      ]
    },
    {
      "cell_type": "markdown",
      "metadata": {},
      "source": [
        "We can estimate the value bets by using the fitted classifier.\n\n"
      ]
    },
    {
      "cell_type": "code",
      "execution_count": null,
      "metadata": {
        "collapsed": false
      },
      "outputs": [],
      "source": [
        "Y_pred_prob = np.concatenate(\n    [prob[:, 1].reshape(-1, 1) for prob in clf.predict_proba(X_test[num_features])],\n    axis=1,\n)\nvalue_bets = Y_pred_prob * Odds_test > 1"
      ]
    },
    {
      "cell_type": "markdown",
      "metadata": {},
      "source": [
        "We assume that we bet an amount of +1 in every value bet. Then we have the\nfollowing mean profit per bet:\n\n"
      ]
    },
    {
      "cell_type": "code",
      "execution_count": null,
      "metadata": {
        "collapsed": false
      },
      "outputs": [],
      "source": [
        "profit = np.nanmean((Y_test.values * Odds_test.values - 1) * value_bets.values)\nprofit"
      ]
    }
  ],
  "metadata": {
    "kernelspec": {
      "display_name": "Python 3",
      "language": "python",
      "name": "python3"
    },
    "language_info": {
      "codemirror_mode": {
        "name": "ipython",
        "version": 3
      },
      "file_extension": ".py",
      "mimetype": "text/x-python",
      "name": "python",
      "nbconvert_exporter": "python",
      "pygments_lexer": "ipython3",
      "version": "3.9.1"
    }
  },
  "nbformat": 4,
  "nbformat_minor": 0
}