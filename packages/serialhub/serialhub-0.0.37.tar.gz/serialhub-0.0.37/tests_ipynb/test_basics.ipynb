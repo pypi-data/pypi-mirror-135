{
 "cells": [
  {
   "cell_type": "code",
   "execution_count": 1,
   "metadata": {},
   "outputs": [
    {
     "name": "stdout",
     "output_type": "stream",
     "text": [
      "    SerialHubWidget class inherits ipywidgets.DOMWidget\n",
      "        Model: SerialHubModel, View: SerialHubView\n",
      "    \n"
     ]
    },
    {
     "data": {
      "text/plain": [
       "'0.0.37'"
      ]
     },
     "execution_count": 1,
     "metadata": {},
     "output_type": "execute_result"
    }
   ],
   "source": [
    "import serialhub\n",
    "print(serialhub.backend.SerialHubWidget.__doc__)\n",
    "serialhub.__version__"
   ]
  },
  {
   "cell_type": "code",
   "execution_count": 2,
   "metadata": {},
   "outputs": [
    {
     "data": {
      "text/plain": [
       "serialhub.backend.SerialHubWidget"
      ]
     },
     "execution_count": 2,
     "metadata": {},
     "output_type": "execute_result"
    }
   ],
   "source": [
    "# NBVAL_CHECK_OUTPUT\n",
    "serialhub.SerialHubWidget"
   ]
  },
  {
   "cell_type": "code",
   "execution_count": 3,
   "metadata": {
    "tags": [
     "test-tag"
    ]
   },
   "outputs": [
    {
     "data": {
      "application/vnd.jupyter.widget-view+json": {
       "model_id": "645f8204c73d4ac8b7f4f5d7d0a7851d",
       "version_major": 2,
       "version_minor": 0
      },
      "text/plain": [
       "SerialHubWidget(pkt_recv_back=(0, 0), pkt_recv_front=(0, 0), pkt_send_back=(0, 0), pkt_send_front=(0, 0), requ…"
      ]
     },
     "metadata": {},
     "output_type": "display_data"
    }
   ],
   "source": [
    "from IPython.display import display\n",
    "W = serialhub.SerialHubWidget()\n",
    "display(W)\n",
    "W.request_options = { 'filters':[{'usbVendorId': 0x2047}] }\n",
    "W.serial_options = { 'baudRate':115200, 'dataBits':8, 'parity':'none', 'stopBits':1 }"
   ]
  },
  {
   "cell_type": "code",
   "execution_count": 4,
   "metadata": {},
   "outputs": [
    {
     "name": "stdout",
     "output_type": "stream",
     "text": [
      "False\n"
     ]
    },
    {
     "data": {
      "text/plain": [
       "'CLEARED\\n'"
      ]
     },
     "execution_count": 4,
     "metadata": {},
     "output_type": "execute_result"
    }
   ],
   "source": [
    "### NOTE: is_supported remains unset until frontend syncs with backend\n",
    "W.value = \"CLEARED\\n\"\n",
    "print(W.is_supported)\n",
    "W.value"
   ]
  },
  {
   "cell_type": "code",
   "execution_count": 5,
   "metadata": {},
   "outputs": [
    {
     "data": {
      "text/plain": [
       "{'filters': [{'usbVendorId': 8263}]}"
      ]
     },
     "execution_count": 5,
     "metadata": {},
     "output_type": "execute_result"
    }
   ],
   "source": [
    "# NBVAL_CHECK_OUTPUT\n",
    "W.request_options"
   ]
  },
  {
   "cell_type": "code",
   "execution_count": 6,
   "metadata": {},
   "outputs": [
    {
     "data": {
      "text/plain": [
       "{'baudRate': 115200, 'dataBits': 8, 'parity': 'none', 'stopBits': 1}"
      ]
     },
     "execution_count": 6,
     "metadata": {},
     "output_type": "execute_result"
    }
   ],
   "source": [
    "# NBVAL_CHECK_OUTPUT\n",
    "W.serial_options"
   ]
  },
  {
   "cell_type": "markdown",
   "metadata": {},
   "source": [
    "---"
   ]
  },
  {
   "cell_type": "code",
   "execution_count": 7,
   "metadata": {},
   "outputs": [
    {
     "data": {
      "text/plain": [
       "(20, 2)"
      ]
     },
     "execution_count": 7,
     "metadata": {},
     "output_type": "execute_result"
    }
   ],
   "source": [
    "# NBVAL_CHECK_OUTPUT\n",
    "W.write_bytes(b'Testing!!')\n",
    "W.write_str('Howdy World')\n",
    "W.pkt_send_back"
   ]
  },
  {
   "cell_type": "code",
   "execution_count": 8,
   "metadata": {},
   "outputs": [
    {
     "data": {
      "text/plain": [
       "(8, 1)"
      ]
     },
     "execution_count": 8,
     "metadata": {},
     "output_type": "execute_result"
    }
   ],
   "source": [
    "# NBVAL_CHECK_OUTPUT\n",
    "W.msg_custom(None, {'type':\"RECV\"}, [b'RECV-DBG'])\n",
    "W.pkt_recv_back"
   ]
  },
  {
   "cell_type": "code",
   "execution_count": 9,
   "metadata": {},
   "outputs": [
    {
     "data": {
      "text/plain": [
       "'CLEARED\\nRECV-DBG'"
      ]
     },
     "execution_count": 9,
     "metadata": {},
     "output_type": "execute_result"
    }
   ],
   "source": [
    "# NBVAL_CHECK_OUTPUT\n",
    "W.value"
   ]
  },
  {
   "cell_type": "markdown",
   "metadata": {},
   "source": [
    "---"
   ]
  },
  {
   "cell_type": "code",
   "execution_count": 10,
   "metadata": {},
   "outputs": [
    {
     "name": "stdout",
     "output_type": "stream",
     "text": [
      "None\n"
     ]
    },
    {
     "data": {
      "text/plain": [
       "(2, 13, b'RECV-2')"
      ]
     },
     "execution_count": 10,
     "metadata": {},
     "output_type": "execute_result"
    }
   ],
   "source": [
    "# NBVAL_CHECK_OUTPUT\n",
    "lastbuf = None\n",
    "cnt_buf = 0\n",
    "cnt_byt = 0\n",
    "def my_recv(buf):\n",
    "    global cnt_buf, cnt_byt, lastbuf\n",
    "    cnt_buf += 1\n",
    "    cnt_byt += len(buf)\n",
    "    lastbuf = buf\n",
    "W.on_recv(my_recv)\n",
    "print(lastbuf)\n",
    "W.msg_custom(None, {'type':\"RECV\"}, [b'RECV-1\\n'])\n",
    "W.msg_custom(None, {'type':\"RECV\"}, [b'RECV-2'])\n",
    "cnt_buf, cnt_byt, lastbuf"
   ]
  }
 ],
 "metadata": {
  "kernelspec": {
   "display_name": "Python 3",
   "language": "python",
   "name": "python3"
  },
  "language_info": {
   "codemirror_mode": {
    "name": "ipython",
    "version": 3
   },
   "file_extension": ".py",
   "mimetype": "text/x-python",
   "name": "python",
   "nbconvert_exporter": "python",
   "pygments_lexer": "ipython3",
   "version": "3.7.10"
  }
 },
 "nbformat": 4,
 "nbformat_minor": 4
}
