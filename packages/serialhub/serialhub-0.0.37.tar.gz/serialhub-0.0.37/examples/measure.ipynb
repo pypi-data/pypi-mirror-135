{
 "cells": [
  {
   "cell_type": "code",
   "execution_count": null,
   "id": "883dace6-407b-401d-aace-705fad9f902a",
   "metadata": {},
   "outputs": [],
   "source": [
    "%matplotlib widget"
   ]
  },
  {
   "cell_type": "code",
   "execution_count": null,
   "id": "30ab77dc-f2ea-4712-9a0c-b4ad492867a8",
   "metadata": {},
   "outputs": [],
   "source": [
    "from collections import deque\n",
    "import matplotlib.pyplot as plt\n",
    "from matplotlib import animation\n",
    "import numpy as np\n"
   ]
  },
  {
   "cell_type": "code",
   "execution_count": null,
   "id": "9a7ad271-4320-4483-ba7a-ae50b3c42283",
   "metadata": {},
   "outputs": [],
   "source": [
    "\n",
    "MAX_X = 100   # Width of graph\n",
    "MAX_Y = 3.3  # Height of\n",
    "MAX_V = 3.3 # Max voltage\n",
    "line = deque([0.0]*MAX_X, maxlen=MAX_X)\n",
    "\n",
    "fig = plt.figure()"
   ]
  },
  {
   "cell_type": "code",
   "execution_count": null,
   "id": "6a596021-48b7-43fa-8346-3944c70579d1",
   "metadata": {},
   "outputs": [],
   "source": [
    "x = [5, 2, 9, 4, 7]\n",
    "y = [10, 5, 8, 4, 2]\n",
    "plt.plot(x, y)\n",
    "plt.title(\"Sensor Voltage\")\n",
    "plt.ylabel(\"V\")\n",
    "plt.xlabel(\"t\")\n",
    "plt.show()"
   ]
  },
  {
   "cell_type": "code",
   "execution_count": null,
   "id": "db7f2195-f4e5-4c5f-bd0e-dc47fbba8fdc",
   "metadata": {},
   "outputs": [],
   "source": [
    "%matplotlib inline"
   ]
  },
  {
   "cell_type": "code",
   "execution_count": null,
   "id": "a9d8c387-6974-4995-a0cc-85995bcf5c7c",
   "metadata": {},
   "outputs": [],
   "source": [
    "fig, ax = plt.subplots()\n",
    "line, = ax.plot([], [], lw=2)\n",
    "ax.set_xlim(0, 2)\n",
    "ax.set_ylim(-1.1, 1.1)\n",
    "\n",
    "frame_num = 0\n",
    "x = np.linspace(0, 2, 100)\n",
    "y = np.sin(2 * np.pi * (x - 0.01 * frame_num))\n",
    "line.set_data(x, y)\n",
    "\n",
    "#anim = animation.FuncAnimation(fig, animate, frames=10, interval=20, repeat=False, blit=True)\n",
    "plt.show()"
   ]
  },
  {
   "cell_type": "code",
   "execution_count": null,
   "id": "72903313-b773-42ff-afa5-d83cd8d766b5",
   "metadata": {},
   "outputs": [],
   "source": []
  },
  {
   "cell_type": "code",
   "execution_count": null,
   "id": "f7d99d6b-48c1-4c8d-8d3d-64d8e4c6c801",
   "metadata": {},
   "outputs": [],
   "source": []
  }
 ],
 "metadata": {
  "kernelspec": {
   "display_name": "Python 3",
   "language": "python",
   "name": "python3"
  },
  "language_info": {
   "codemirror_mode": {
    "name": "ipython",
    "version": 3
   },
   "file_extension": ".py",
   "mimetype": "text/x-python",
   "name": "python",
   "nbconvert_exporter": "python",
   "pygments_lexer": "ipython3",
   "version": "3.7.10"
  }
 },
 "nbformat": 4,
 "nbformat_minor": 5
}
