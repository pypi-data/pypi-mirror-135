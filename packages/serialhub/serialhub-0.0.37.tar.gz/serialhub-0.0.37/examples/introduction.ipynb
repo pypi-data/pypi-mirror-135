{
 "cells": [
  {
   "cell_type": "code",
   "execution_count": null,
   "metadata": {},
   "outputs": [],
   "source": [
    "from IPython.display import display  # We will display() explicitly\n",
    "import serialhub  # Import our plugin package, must install if this fails\n",
    "print(f\"SerialHub python package version: {serialhub.__version__}\")\n",
    "\n",
    "W = serialhub.SerialHubWidget()  # Instantiate our custom widget\n",
    "# IMPORTANT: Match settings to your device\n",
    "W.serial_options = {'baudRate': 115200}\n",
    "display(W)  # Render the widget JavaScript/DOM component visually in cell\n",
    "#Could \"return\" W variable from cell to render without using display()\n",
    "\n",
    "print(f\"Premature check if supported: {W.is_supported}\")  # Expect \"False\"\n",
    "\"If the widgets button indicates 'Supported' then CLICK IT!!!\""
   ]
  },
  {
   "cell_type": "code",
   "execution_count": null,
   "metadata": {},
   "outputs": [],
   "source": [
    "print(f\"Supported: {W.is_supported}\") #Check AFTER the widget frontend syncs up\n",
    "#If reports False, you likely need Google Chrome browser for WebSerial API\n",
    "W.value = \"CLEARED\" #Show something in widget debug/output area\n",
    "to_send = f\"Test {W.status}\\n\" #Read the status-button text into a backend string\n",
    "W.write_str(to_send) #Send a string to the serial port, hopefully statistics increase\n",
    "to_send #Show what we tried to send"
   ]
  },
  {
   "cell_type": "code",
   "execution_count": null,
   "metadata": {},
   "outputs": [],
   "source": [
    "backend_stats = [W.pkt_send_back, W.pkt_recv_back] #Capture backend stats traitlets\n",
    "frontend_stats = [W.pkt_send_front, W.pkt_recv_front] #Capture frontend stats traitlets\n",
    "print(\"Statistics are each a Tuple(bytes, packets):\") #Note that stats are a PAIR of ints\n",
    "print(f\"Backend  [send, recv] {backend_stats}\") #Hopefully the above cell sent data via backend\n",
    "print(f\"Frontend [send, recv] {frontend_stats}\") #Hopefully the above cell sent data via backend\n",
    "frontend_stats == backend_stats #Did frontend javascript send/recv matching amount???"
   ]
  },
  {
   "cell_type": "code",
   "execution_count": null,
   "metadata": {},
   "outputs": [],
   "source": [
    "#Try something else here, like writing more data directly to the widget\n",
    "W.write_bytes(b'Test\\x0D\\x0A') #Send some \"binary\" data (the \"native\" data type)\n",
    "W.pkt_send_front #Front-end stats need some time to sync up"
   ]
  },
  {
   "cell_type": "markdown",
   "metadata": {},
   "source": [
    "Now we try reading some data via callback mechanism..."
   ]
  },
  {
   "cell_type": "code",
   "execution_count": null,
   "metadata": {},
   "outputs": [],
   "source": [
    "CNT=0 #GLOBAL variable as a simple counter\n",
    "def gotbuf_cb(buf): #Create a callback function\n",
    "    global CNT #Access existing global var, not a new local one\n",
    "    CNT = CNT + 1 #Increment \"packet\" counter\n",
    "    W.value = f\"Value now {CNT}\" #Show message in widget debug area\n",
    "\n",
    "W.on_recv(gotbuf_cb) #Install our custom callback"
   ]
  },
  {
   "cell_type": "code",
   "execution_count": null,
   "metadata": {},
   "outputs": [],
   "source": [
    "CNT #Hopefully our counter goes up if you receive any serial data"
   ]
  },
  {
   "cell_type": "code",
   "execution_count": null,
   "metadata": {},
   "outputs": [],
   "source": [
    "W.on_recv(None) #Uninstall our callback\n",
    "CNT #Our callback should no longer be called"
   ]
  },
  {
   "cell_type": "markdown",
   "metadata": {},
   "source": [
    "Now we start testing out the SerialIO wrapper which mimicks traditional IO read/write"
   ]
  },
  {
   "cell_type": "code",
   "execution_count": null,
   "metadata": {},
   "outputs": [],
   "source": [
    "SER = serialhub.SerialIO(W) #Start testing new \"SerialIO\" helper/wrapper\n",
    "SER.closed() #Expect False, especially if SerialHubPort is active"
   ]
  },
  {
   "cell_type": "code",
   "execution_count": null,
   "metadata": {},
   "outputs": [],
   "source": [
    "#SER.write(b'TEST') #Widget write stats should go up"
   ]
  },
  {
   "cell_type": "code",
   "execution_count": null,
   "metadata": {},
   "outputs": [],
   "source": [
    "SER.in_waiting #IF your serial device has written recently, should have accumulated some data"
   ]
  },
  {
   "cell_type": "code",
   "execution_count": null,
   "metadata": {},
   "outputs": [],
   "source": [
    "#SER.readall() #This should drain any accumulated data so far"
   ]
  },
  {
   "cell_type": "code",
   "execution_count": null,
   "metadata": {},
   "outputs": [],
   "source": []
  }
 ],
 "metadata": {
  "kernelspec": {
   "display_name": "Python 3",
   "language": "python",
   "name": "python3"
  },
  "language_info": {
   "codemirror_mode": {
    "name": "ipython",
    "version": 3
   },
   "file_extension": ".py",
   "mimetype": "text/x-python",
   "name": "python",
   "nbconvert_exporter": "python",
   "pygments_lexer": "ipython3",
   "version": "3.7.10"
  }
 },
 "nbformat": 4,
 "nbformat_minor": 4
}
