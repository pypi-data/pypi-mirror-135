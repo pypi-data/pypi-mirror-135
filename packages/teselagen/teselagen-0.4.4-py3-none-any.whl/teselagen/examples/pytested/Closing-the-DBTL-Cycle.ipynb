{
 "cells": [
  {
   "cell_type": "markdown",
   "metadata": {},
   "source": [
    "<div align=left style=\"width: 200; height: 80px; overflow: hidden\">\n",
    "    <img src=http://static1.squarespace.com/static/571446ff60b5e92c3a2b4249/57d8a40b9de4bb459f731cf3/58cb2f229de4bb4a049d38c2/1505340359463/teselaGenlogo.jpg align=right width=200>\n",
    "</div>"
   ]
  },
  {
   "cell_type": "markdown",
   "metadata": {},
   "source": [
    "# Closing the DBTL loop with TeselaGen\n",
    "\n",
    "With TeselaGen's platform you can close the Design-Build-Test-Learn (DBTL) cycle  using machine learning algorithms that automatically learn from your data. The DISCOVER  module is capable of suggesting new candidates that can optimize your results given your previous experimental rounds. This document shows how to enable those candidates as new designs at the DESIGN module to perform the next DBTL cycle.\n",
    "\n",
    "**Inputs**: Evolutions algorithm's result at an DISCOVER module instance\n",
    "\n",
    "**Outputs**: New designs created at DESIGN module\n",
    "\n",
    "#### Requirements: \n",
    "\n",
    "* Access permissions to the lab where the evolutions results are stored\n",
    "* Have Python3 installed in your local computer with Pandas and TG's *api-client*"
   ]
  },
  {
   "cell_type": "markdown",
   "metadata": {},
   "source": [
    "First, we start making all required imports"
   ]
  },
  {
   "cell_type": "code",
   "execution_count": 1,
   "metadata": {},
   "outputs": [
    {
     "name": "stdout",
     "output_type": "stream",
     "text": [
      "python version     : 3.9.6\n",
      "pandas version     : 1.3.0\n"
     ]
    }
   ],
   "source": [
    "import platform\n",
    "\n",
    "from IPython.core.display import display\n",
    "from IPython.core.display import HTML\n",
    "import pandas as pd\n",
    "\n",
    "from teselagen.api import TeselaGenClient\n",
    "from teselagen.utils.candidates_to_design import build_design_from_candidates\n",
    "\n",
    "print(f\"python version     : {platform.python_version()}\")\n",
    "print(f\"pandas version     : {pd.__version__}\")"
   ]
  },
  {
   "cell_type": "markdown",
   "metadata": {},
   "source": [
    "## Look for your Evolution results\n",
    "\n",
    "Here, the concept of *closing the DBTL loop* refers to the ability to generate designs out of what was learned from previous experiments. Those designs can be used to conduct new experimental rounds. This notebook assumes you've already trained an *Evolution* model.\n",
    "\n",
    "The results of an *Evolution* model contain a set of ranked candidates that may outperform your current measurements. Each of the proposed candidates is a combination of the parts (and possibly other variables) you have already tested within the designs in your experiments. These new combinations were evaluated and ranked by a machine learning algorithm and we will generate proper designs with them. \n",
    "\n",
    "This guide starts at the output of the Evolutions tool at DISCOVER. The next cell connects the notebook with DISCOVER and selects the empty lab (`Common`) which holds our sample experiment:"
   ]
  },
  {
   "cell_type": "code",
   "execution_count": 2,
   "metadata": {},
   "outputs": [
    {
     "name": "stdout",
     "output_type": "stream",
     "text": [
      "Connection Accepted\n",
      "Selected Lab: The Test Lab\n"
     ]
    }
   ],
   "source": [
    "# Connect to your teselagen instance by passing it as the 'host_url' argument of EVOLVECLient(host_url=host_url)\n",
    "# client = EVOLVEClient(host_url=\"https://your-instance-name.teselagen.com\")\n",
    "client = TeselaGenClient()\n",
    "client.login()\n",
    "client.select_laboratory(lab_name=\"The Test Lab\")"
   ]
  },
  {
   "cell_type": "markdown",
   "metadata": {},
   "source": [
    "Next, we find the `evolutive` model with name `Teselagen Example Evolutive Model`:"
   ]
  },
  {
   "cell_type": "code",
   "execution_count": 3,
   "metadata": {},
   "outputs": [
    {
     "name": "stdout",
     "output_type": "stream",
     "text": [
      "Model id 101, name: Teselagen Example Evolutive Model\n"
     ]
    }
   ],
   "source": [
    "search_for_name = \"Teselagen Example Evolutive Model\"\n",
    "evolution_models_info = client.discover.get_models_by_type('evolutive')\n",
    "model_id = -1\n",
    "\n",
    "for info in evolution_models_info:\n",
    "    if info['name'] == search_for_name:\n",
    "        model_id = info['id']\n",
    "        print(f\"Model id {info['id']}, name: {info['name']}\")\n",
    "\n",
    "if model_id == -1:\n",
    "    raise OSError(\"Didn't found model\")"
   ]
  },
  {
   "cell_type": "markdown",
   "metadata": {},
   "source": [
    "And get the models' results. The results objects contain predictions for several untested combinations. We will focus on the rows with valid priority values, which are the better candidates suggested by the algorithm:"
   ]
  },
  {
   "cell_type": "code",
   "execution_count": 4,
   "metadata": {},
   "outputs": [
    {
     "data": {
      "text/html": [
       "<div>\n",
       "<style scoped>\n",
       "    .dataframe tbody tr th:only-of-type {\n",
       "        vertical-align: middle;\n",
       "    }\n",
       "\n",
       "    .dataframe tbody tr th {\n",
       "        vertical-align: top;\n",
       "    }\n",
       "\n",
       "    .dataframe thead th {\n",
       "        text-align: right;\n",
       "    }\n",
       "</style>\n",
       "<table border=\"1\" class=\"dataframe\">\n",
       "  <thead>\n",
       "    <tr style=\"text-align: right;\">\n",
       "      <th></th>\n",
       "      <th>Teselagen Enzyme A</th>\n",
       "      <th>Teselagen Enzyme B</th>\n",
       "      <th>sigma</th>\n",
       "      <th>acq</th>\n",
       "      <th>in_batch</th>\n",
       "      <th>priority</th>\n",
       "      <th>Production</th>\n",
       "      <th>prediction</th>\n",
       "    </tr>\n",
       "  </thead>\n",
       "  <tbody>\n",
       "    <tr>\n",
       "      <th>0</th>\n",
       "      <td>Variant A1</td>\n",
       "      <td>Variant B5</td>\n",
       "      <td>2.858760</td>\n",
       "      <td>2.897875e-01</td>\n",
       "      <td>True</td>\n",
       "      <td>0.0</td>\n",
       "      <td>NaN</td>\n",
       "      <td>6.531618</td>\n",
       "    </tr>\n",
       "    <tr>\n",
       "      <th>1</th>\n",
       "      <td>Variant A4</td>\n",
       "      <td>Variant B3</td>\n",
       "      <td>2.569104</td>\n",
       "      <td>1.767566e-01</td>\n",
       "      <td>True</td>\n",
       "      <td>1.0</td>\n",
       "      <td>NaN</td>\n",
       "      <td>6.267417</td>\n",
       "    </tr>\n",
       "    <tr>\n",
       "      <th>2</th>\n",
       "      <td>Variant A5</td>\n",
       "      <td>Variant B4</td>\n",
       "      <td>2.315206</td>\n",
       "      <td>1.343170e-01</td>\n",
       "      <td>True</td>\n",
       "      <td>2.0</td>\n",
       "      <td>NaN</td>\n",
       "      <td>6.349708</td>\n",
       "    </tr>\n",
       "    <tr>\n",
       "      <th>3</th>\n",
       "      <td>Variant A1</td>\n",
       "      <td>Variant B3</td>\n",
       "      <td>3.147615</td>\n",
       "      <td>1.329677e-01</td>\n",
       "      <td>True</td>\n",
       "      <td>3.0</td>\n",
       "      <td>NaN</td>\n",
       "      <td>4.887956</td>\n",
       "    </tr>\n",
       "    <tr>\n",
       "      <th>4</th>\n",
       "      <td>Variant A0</td>\n",
       "      <td>Variant B5</td>\n",
       "      <td>3.406001</td>\n",
       "      <td>1.957839e-01</td>\n",
       "      <td>True</td>\n",
       "      <td>4.0</td>\n",
       "      <td>NaN</td>\n",
       "      <td>5.043227</td>\n",
       "    </tr>\n",
       "    <tr>\n",
       "      <th>5</th>\n",
       "      <td>Variant A3</td>\n",
       "      <td>Variant B5</td>\n",
       "      <td>2.005093</td>\n",
       "      <td>1.634227e-01</td>\n",
       "      <td>True</td>\n",
       "      <td>5.0</td>\n",
       "      <td>NaN</td>\n",
       "      <td>7.061810</td>\n",
       "    </tr>\n",
       "    <tr>\n",
       "      <th>6</th>\n",
       "      <td>Variant A4</td>\n",
       "      <td>Variant B4</td>\n",
       "      <td>2.243716</td>\n",
       "      <td>1.266118e-01</td>\n",
       "      <td>True</td>\n",
       "      <td>6.0</td>\n",
       "      <td>NaN</td>\n",
       "      <td>6.403903</td>\n",
       "    </tr>\n",
       "    <tr>\n",
       "      <th>7</th>\n",
       "      <td>Variant A5</td>\n",
       "      <td>Variant B2</td>\n",
       "      <td>2.484564</td>\n",
       "      <td>3.890292e-02</td>\n",
       "      <td>True</td>\n",
       "      <td>7.0</td>\n",
       "      <td>NaN</td>\n",
       "      <td>4.709560</td>\n",
       "    </tr>\n",
       "    <tr>\n",
       "      <th>8</th>\n",
       "      <td>Variant A5</td>\n",
       "      <td>Variant B5</td>\n",
       "      <td>2.032704</td>\n",
       "      <td>2.400916e-01</td>\n",
       "      <td>True</td>\n",
       "      <td>8.0</td>\n",
       "      <td>NaN</td>\n",
       "      <td>7.443619</td>\n",
       "    </tr>\n",
       "    <tr>\n",
       "      <th>9</th>\n",
       "      <td>Variant A2</td>\n",
       "      <td>Variant B3</td>\n",
       "      <td>2.284042</td>\n",
       "      <td>7.849138e-02</td>\n",
       "      <td>True</td>\n",
       "      <td>9.0</td>\n",
       "      <td>NaN</td>\n",
       "      <td>5.825411</td>\n",
       "    </tr>\n",
       "    <tr>\n",
       "      <th>10</th>\n",
       "      <td>Variant A5</td>\n",
       "      <td>Variant B1</td>\n",
       "      <td>2.616364</td>\n",
       "      <td>6.200329e-02</td>\n",
       "      <td>True</td>\n",
       "      <td>10.0</td>\n",
       "      <td>NaN</td>\n",
       "      <td>4.925423</td>\n",
       "    </tr>\n",
       "    <tr>\n",
       "      <th>11</th>\n",
       "      <td>Variant A4</td>\n",
       "      <td>Variant B0</td>\n",
       "      <td>2.573316</td>\n",
       "      <td>1.763489e-02</td>\n",
       "      <td>True</td>\n",
       "      <td>11.0</td>\n",
       "      <td>NaN</td>\n",
       "      <td>3.740031</td>\n",
       "    </tr>\n",
       "    <tr>\n",
       "      <th>12</th>\n",
       "      <td>Variant A0</td>\n",
       "      <td>Variant B3</td>\n",
       "      <td>2.971187</td>\n",
       "      <td>3.148318e-02</td>\n",
       "      <td>True</td>\n",
       "      <td>12.0</td>\n",
       "      <td>NaN</td>\n",
       "      <td>3.396450</td>\n",
       "    </tr>\n",
       "    <tr>\n",
       "      <th>13</th>\n",
       "      <td>Variant A3</td>\n",
       "      <td>Variant B3</td>\n",
       "      <td>2.395703</td>\n",
       "      <td>8.990303e-02</td>\n",
       "      <td>True</td>\n",
       "      <td>13.0</td>\n",
       "      <td>NaN</td>\n",
       "      <td>5.761241</td>\n",
       "    </tr>\n",
       "    <tr>\n",
       "      <th>14</th>\n",
       "      <td>Variant A4</td>\n",
       "      <td>Variant B2</td>\n",
       "      <td>2.256511</td>\n",
       "      <td>2.183237e-02</td>\n",
       "      <td>True</td>\n",
       "      <td>14.0</td>\n",
       "      <td>NaN</td>\n",
       "      <td>4.687799</td>\n",
       "    </tr>\n",
       "    <tr>\n",
       "      <th>15</th>\n",
       "      <td>Variant A1</td>\n",
       "      <td>Variant B4</td>\n",
       "      <td>2.787287</td>\n",
       "      <td>9.590917e-02</td>\n",
       "      <td>True</td>\n",
       "      <td>15.0</td>\n",
       "      <td>NaN</td>\n",
       "      <td>5.107738</td>\n",
       "    </tr>\n",
       "    <tr>\n",
       "      <th>16</th>\n",
       "      <td>Variant A0</td>\n",
       "      <td>Variant B4</td>\n",
       "      <td>2.804886</td>\n",
       "      <td>2.750700e-02</td>\n",
       "      <td>True</td>\n",
       "      <td>16.0</td>\n",
       "      <td>NaN</td>\n",
       "      <td>3.632343</td>\n",
       "    </tr>\n",
       "    <tr>\n",
       "      <th>17</th>\n",
       "      <td>Variant A5</td>\n",
       "      <td>Variant B0</td>\n",
       "      <td>2.813887</td>\n",
       "      <td>2.998242e-02</td>\n",
       "      <td>True</td>\n",
       "      <td>17.0</td>\n",
       "      <td>NaN</td>\n",
       "      <td>3.703862</td>\n",
       "    </tr>\n",
       "    <tr>\n",
       "      <th>18</th>\n",
       "      <td>Variant A3</td>\n",
       "      <td>Variant B1</td>\n",
       "      <td>1.987995</td>\n",
       "      <td>7.154124e-03</td>\n",
       "      <td>True</td>\n",
       "      <td>18.0</td>\n",
       "      <td>NaN</td>\n",
       "      <td>4.505856</td>\n",
       "    </tr>\n",
       "    <tr>\n",
       "      <th>19</th>\n",
       "      <td>Variant A2</td>\n",
       "      <td>Variant B4</td>\n",
       "      <td>1.872253</td>\n",
       "      <td>3.376690e-02</td>\n",
       "      <td>True</td>\n",
       "      <td>19.0</td>\n",
       "      <td>NaN</td>\n",
       "      <td>5.896505</td>\n",
       "    </tr>\n",
       "    <tr>\n",
       "      <th>20</th>\n",
       "      <td>Variant A3</td>\n",
       "      <td>Variant B2</td>\n",
       "      <td>1.918769</td>\n",
       "      <td>3.162927e-03</td>\n",
       "      <td>True</td>\n",
       "      <td>20.0</td>\n",
       "      <td>NaN</td>\n",
       "      <td>4.173108</td>\n",
       "    </tr>\n",
       "    <tr>\n",
       "      <th>21</th>\n",
       "      <td>Variant A2</td>\n",
       "      <td>Variant B1</td>\n",
       "      <td>1.912673</td>\n",
       "      <td>6.063060e-03</td>\n",
       "      <td>True</td>\n",
       "      <td>21.0</td>\n",
       "      <td>NaN</td>\n",
       "      <td>4.597352</td>\n",
       "    </tr>\n",
       "    <tr>\n",
       "      <th>22</th>\n",
       "      <td>Variant A2</td>\n",
       "      <td>Variant B0</td>\n",
       "      <td>2.085614</td>\n",
       "      <td>2.092458e-03</td>\n",
       "      <td>True</td>\n",
       "      <td>22.0</td>\n",
       "      <td>NaN</td>\n",
       "      <td>3.423788</td>\n",
       "    </tr>\n",
       "    <tr>\n",
       "      <th>23</th>\n",
       "      <td>Variant A1</td>\n",
       "      <td>Variant B2</td>\n",
       "      <td>2.256840</td>\n",
       "      <td>4.431852e-03</td>\n",
       "      <td>True</td>\n",
       "      <td>23.0</td>\n",
       "      <td>NaN</td>\n",
       "      <td>3.433082</td>\n",
       "    </tr>\n",
       "    <tr>\n",
       "      <th>24</th>\n",
       "      <td>Variant A0</td>\n",
       "      <td>Variant B0</td>\n",
       "      <td>1.498531</td>\n",
       "      <td>1.964000e-07</td>\n",
       "      <td>True</td>\n",
       "      <td>24.0</td>\n",
       "      <td>NaN</td>\n",
       "      <td>1.851724</td>\n",
       "    </tr>\n",
       "    <tr>\n",
       "      <th>25</th>\n",
       "      <td>Variant A1</td>\n",
       "      <td>Variant B1</td>\n",
       "      <td>2.508036</td>\n",
       "      <td>1.238972e-02</td>\n",
       "      <td>True</td>\n",
       "      <td>25.0</td>\n",
       "      <td>NaN</td>\n",
       "      <td>3.581834</td>\n",
       "    </tr>\n",
       "  </tbody>\n",
       "</table>\n",
       "</div>"
      ],
      "text/plain": [
       "   Teselagen Enzyme A Teselagen Enzyme B     sigma           acq  in_batch  \\\n",
       "0          Variant A1         Variant B5  2.858760  2.897875e-01      True   \n",
       "1          Variant A4         Variant B3  2.569104  1.767566e-01      True   \n",
       "2          Variant A5         Variant B4  2.315206  1.343170e-01      True   \n",
       "3          Variant A1         Variant B3  3.147615  1.329677e-01      True   \n",
       "4          Variant A0         Variant B5  3.406001  1.957839e-01      True   \n",
       "5          Variant A3         Variant B5  2.005093  1.634227e-01      True   \n",
       "6          Variant A4         Variant B4  2.243716  1.266118e-01      True   \n",
       "7          Variant A5         Variant B2  2.484564  3.890292e-02      True   \n",
       "8          Variant A5         Variant B5  2.032704  2.400916e-01      True   \n",
       "9          Variant A2         Variant B3  2.284042  7.849138e-02      True   \n",
       "10         Variant A5         Variant B1  2.616364  6.200329e-02      True   \n",
       "11         Variant A4         Variant B0  2.573316  1.763489e-02      True   \n",
       "12         Variant A0         Variant B3  2.971187  3.148318e-02      True   \n",
       "13         Variant A3         Variant B3  2.395703  8.990303e-02      True   \n",
       "14         Variant A4         Variant B2  2.256511  2.183237e-02      True   \n",
       "15         Variant A1         Variant B4  2.787287  9.590917e-02      True   \n",
       "16         Variant A0         Variant B4  2.804886  2.750700e-02      True   \n",
       "17         Variant A5         Variant B0  2.813887  2.998242e-02      True   \n",
       "18         Variant A3         Variant B1  1.987995  7.154124e-03      True   \n",
       "19         Variant A2         Variant B4  1.872253  3.376690e-02      True   \n",
       "20         Variant A3         Variant B2  1.918769  3.162927e-03      True   \n",
       "21         Variant A2         Variant B1  1.912673  6.063060e-03      True   \n",
       "22         Variant A2         Variant B0  2.085614  2.092458e-03      True   \n",
       "23         Variant A1         Variant B2  2.256840  4.431852e-03      True   \n",
       "24         Variant A0         Variant B0  1.498531  1.964000e-07      True   \n",
       "25         Variant A1         Variant B1  2.508036  1.238972e-02      True   \n",
       "\n",
       "    priority  Production  prediction  \n",
       "0        0.0         NaN    6.531618  \n",
       "1        1.0         NaN    6.267417  \n",
       "2        2.0         NaN    6.349708  \n",
       "3        3.0         NaN    4.887956  \n",
       "4        4.0         NaN    5.043227  \n",
       "5        5.0         NaN    7.061810  \n",
       "6        6.0         NaN    6.403903  \n",
       "7        7.0         NaN    4.709560  \n",
       "8        8.0         NaN    7.443619  \n",
       "9        9.0         NaN    5.825411  \n",
       "10      10.0         NaN    4.925423  \n",
       "11      11.0         NaN    3.740031  \n",
       "12      12.0         NaN    3.396450  \n",
       "13      13.0         NaN    5.761241  \n",
       "14      14.0         NaN    4.687799  \n",
       "15      15.0         NaN    5.107738  \n",
       "16      16.0         NaN    3.632343  \n",
       "17      17.0         NaN    3.703862  \n",
       "18      18.0         NaN    4.505856  \n",
       "19      19.0         NaN    5.896505  \n",
       "20      20.0         NaN    4.173108  \n",
       "21      21.0         NaN    4.597352  \n",
       "22      22.0         NaN    3.423788  \n",
       "23      23.0         NaN    3.433082  \n",
       "24      24.0         NaN    1.851724  \n",
       "25      25.0         NaN    3.581834  "
      ]
     },
     "metadata": {},
     "output_type": "display_data"
    }
   ],
   "source": [
    "results = client.discover.get_model_datapoints(\n",
    "    model_id=model_id,\n",
    "    datapoint_type=\"output\",\n",
    "    batch_size=400,\n",
    "    batch_number=1,\n",
    ")\n",
    "\n",
    "data = pd.DataFrame([el for el in results['data']])\n",
    "data = data.dropna(subset=['priority']).reset_index(drop=True)\n",
    "display(data)"
   ]
  },
  {
   "cell_type": "markdown",
   "metadata": {},
   "source": [
    "Note the algorithm doesn't suggest candidates you've already tested. That's why the `Production` column, the *unknown* variable for untested combinations in this example, contains only `NaN` values."
   ]
  },
  {
   "cell_type": "markdown",
   "metadata": {},
   "source": [
    "## Build the designs json\n",
    "\n",
    "Now we need to generate a json file with the candidates in order to be imported from DESIGN. We've added an utility for this at the api-client library that is called `build_design_from_candidates`. This utility receives a list of dictionaries as input and it requires to explicitly declare the columns that should be interpreted as bins. Following with the example:"
   ]
  },
  {
   "cell_type": "code",
   "execution_count": 5,
   "metadata": {},
   "outputs": [
    {
     "name": "stdout",
     "output_type": "stream",
     "text": [
      "Generating design using 26 candidates\n"
     ]
    }
   ],
   "source": [
    "design = build_design_from_candidates(\n",
    "    candidates_data=data.to_dict(orient=\"records\"),\n",
    "    bin_cols=['Enzyme A', 'Enzyme B'],\n",
    "    name=\"Closing DBTL Example\",\n",
    "    priority_col='priority',\n",
    ")"
   ]
  },
  {
   "cell_type": "markdown",
   "metadata": {},
   "source": [
    "The `design` variable contains a dictionary representation of the design. This representation can be easily stored as a json file and then uploaded into DESIGN. To do this, we need to create a `DESIGNClient` instance:"
   ]
  },
  {
   "cell_type": "markdown",
   "metadata": {},
   "source": [
    "And upload the design. The method `post_design` returns the id of the generated DESIGN in case of success:"
   ]
  },
  {
   "cell_type": "code",
   "execution_count": 6,
   "metadata": {},
   "outputs": [
    {
     "data": {
      "text/plain": [
       "{'id': '1303'}"
      ]
     },
     "metadata": {},
     "output_type": "display_data"
    }
   ],
   "source": [
    "response = client.design.post_design(design=design)\n",
    "display(response)"
   ]
  },
  {
   "cell_type": "markdown",
   "metadata": {},
   "source": [
    "The new design should be created and look like this:"
   ]
  },
  {
   "cell_type": "markdown",
   "metadata": {},
   "source": [
    "<div align=left style=\"\">\n",
    "    <img src=https://downloads.intercomcdn.com/i/o/236560355/5b4d66d19c53bc8b31dc202e/image.png>\n",
    "</div>\n"
   ]
  },
  {
   "cell_type": "markdown",
   "metadata": {},
   "source": [
    "Uncomment and run the following cell to get the design link:"
   ]
  },
  {
   "cell_type": "code",
   "execution_count": 7,
   "metadata": {},
   "outputs": [],
   "source": [
    "# design_url = f\"{design_client.host_url}/design/client/designs/{response['id']}\"\n",
    "# display(HTML(f\"\"\"<a href=\"{design_url}\">{design_url}</a>\"\"\"))"
   ]
  },
  {
   "cell_type": "code",
   "execution_count": null,
   "metadata": {},
   "outputs": [],
   "source": []
  }
 ],
 "metadata": {
  "kernelspec": {
   "display_name": "Python 3 (ipykernel)",
   "language": "python",
   "name": "python3"
  },
  "language_info": {
   "codemirror_mode": {
    "name": "ipython",
    "version": 3
   },
   "file_extension": ".py",
   "mimetype": "text/x-python",
   "name": "python",
   "nbconvert_exporter": "python",
   "pygments_lexer": "ipython3",
   "version": "3.9.6"
  }
 },
 "nbformat": 4,
 "nbformat_minor": 4
}
