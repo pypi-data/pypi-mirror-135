{
 "cells": [
  {
   "cell_type": "markdown",
   "metadata": {},
   "source": [
    "# Editing models with pygor3"
   ]
  },
  {
   "cell_type": "markdown",
   "metadata": {},
   "source": [
    "A default model can be edited with IGoR from an already defined model. If you want to do it from scratch you need to IGoR C++ source code"
   ]
  },
  {
   "cell_type": "code",
   "execution_count": null,
   "metadata": {},
   "outputs": [],
   "source": [
    "import pygor3 as p3\n",
    "species=\"human\"\n",
    "chain=\"tcr_beta\"\n",
    "mdl = p3.IgorModel.load_default(species, chain)"
   ]
  },
  {
   "cell_type": "markdown",
   "metadata": {},
   "source": [
    "## Changing Edges"
   ]
  },
  {
   "cell_type": "code",
   "execution_count": null,
   "metadata": {},
   "outputs": [],
   "source": [
    "mdl.parms.write_model_parms(\"mdl_parms0.txt\")\n",
    "mdl.marginals.write_model_marginals(\"mdl_marginals0.txt\", model_parms=mdl.parms)\n",
    "mdl.parms.plot_Graph()"
   ]
  },
  {
   "cell_type": "code",
   "execution_count": null,
   "metadata": {},
   "outputs": [],
   "source": [
    "mdl['vd_ins']"
   ]
  },
  {
   "cell_type": "code",
   "execution_count": null,
   "metadata": {},
   "outputs": [],
   "source": [
    "mdl.add_Edge('v_choice', 'vd_ins')\n",
    "mdl.plot_Bayes_network()\n",
    "mdl.write_model(\"mdl_parms1.txt\", \"mdl_marginals1.txt\")"
   ]
  },
  {
   "cell_type": "code",
   "execution_count": null,
   "metadata": {},
   "outputs": [],
   "source": [
    "mdl.remove_Edge('d_5_del', 'd_3_del')\n",
    "mdl.plot_Bayes_network()\n",
    "mdl.write_model(\"mdl_parms3.txt\", \"mdl_marginals3.txt\")"
   ]
  },
  {
   "cell_type": "code",
   "execution_count": null,
   "metadata": {
    "tags": []
   },
   "outputs": [],
   "source": []
  },
  {
   "cell_type": "markdown",
   "metadata": {},
   "source": [
    "## Changing Event realizations"
   ]
  },
  {
   "cell_type": "code",
   "execution_count": null,
   "metadata": {},
   "outputs": [],
   "source": [
    "import pygor3 as p3\n",
    "species=\"mouse\"\n",
    "chain=\"tcr_beta\"\n",
    "mdl = p3.IgorModel.load_default(species, chain)\n",
    "mdl.parms.plot_Graph()"
   ]
  },
  {
   "cell_type": "code",
   "execution_count": null,
   "metadata": {},
   "outputs": [],
   "source": [
    "mdl['d_gene']"
   ]
  },
  {
   "cell_type": "code",
   "execution_count": null,
   "metadata": {},
   "outputs": [],
   "source": [
    "mdl['d_gene'].plot()"
   ]
  },
  {
   "cell_type": "code",
   "execution_count": null,
   "metadata": {},
   "outputs": [],
   "source": [
    "df = mdl.get_event_realizations_DataFrame('j_choice')\n",
    "df"
   ]
  },
  {
   "cell_type": "markdown",
   "metadata": {},
   "source": [
    "Now we can simple edit this dataframe "
   ]
  },
  {
   "cell_type": "code",
   "execution_count": null,
   "metadata": {},
   "outputs": [],
   "source": [
    "new_df = df[:4]\n",
    "new_df"
   ]
  },
  {
   "cell_type": "markdown",
   "metadata": {},
   "source": [
    "and set it as the new realizations for this particular event and for our model"
   ]
  },
  {
   "cell_type": "code",
   "execution_count": null,
   "metadata": {},
   "outputs": [],
   "source": [
    "mdl.set_realization_event_from_DataFrame('j_choice', new_df)"
   ]
  },
  {
   "cell_type": "code",
   "execution_count": null,
   "metadata": {},
   "outputs": [],
   "source": [
    "mdl.write_model(\"mdl_parms3.txt\", \"mdl_marginals3.txt\")"
   ]
  },
  {
   "cell_type": "code",
   "execution_count": null,
   "metadata": {},
   "outputs": [],
   "source": [
    "mdl['j_choice'].loc[0]=0.4\n",
    "mdl['j_choice'].loc[1]=0.1"
   ]
  },
  {
   "cell_type": "code",
   "execution_count": null,
   "metadata": {},
   "outputs": [],
   "source": [
    "mdl['d_gene'].plot()"
   ]
  },
  {
   "cell_type": "code",
   "execution_count": null,
   "metadata": {},
   "outputs": [],
   "source": [
    "import pygor3 as p3\n",
    "mdl_HTRB = p3.IgorModel.load_default(\"human\", \"tcr_beta\")\n",
    "mdl_HTRB.export_plot_Pmarginals(\"OOO\")"
   ]
  },
  {
   "cell_type": "markdown",
   "metadata": {},
   "source": [
    "## Making new model parms from IMGT website"
   ]
  },
  {
   "cell_type": "markdown",
   "metadata": {},
   "source": [
    "### Downloading IMGT templates"
   ]
  },
  {
   "cell_type": "code",
   "execution_count": null,
   "metadata": {},
   "outputs": [],
   "source": [
    "import pygor3 as p3\n",
    "p3.imgt.imgt_params"
   ]
  },
  {
   "cell_type": "code",
   "execution_count": null,
   "metadata": {},
   "outputs": [],
   "source": [
    "imgt_species_list = p3.imgt.get_species_list()\n",
    "print( imgt_species_list )"
   ]
  },
  {
   "cell_type": "code",
   "execution_count": null,
   "metadata": {},
   "outputs": [],
   "source": [
    "import pygor3 as p3\n",
    "imgt_species = \"Bos+taurus\"\n",
    "imgt_chain = \"TRB\"\n",
    "bb_genomic_dict = p3.imgt.download_ref_genome_VDJ(imgt_species, imgt_chain)"
   ]
  },
  {
   "cell_type": "code",
   "execution_count": null,
   "metadata": {},
   "outputs": [],
   "source": [
    "bb_genomic_dict['V']"
   ]
  },
  {
   "cell_type": "code",
   "execution_count": null,
   "metadata": {},
   "outputs": [],
   "source": []
  },
  {
   "cell_type": "code",
   "execution_count": null,
   "metadata": {},
   "outputs": [],
   "source": [
    "bb_mdl_0 = p3.IgorModel.make_default_from_Dataframe_dict(bb_genomic_dict)\n",
    "bb_mdl_0"
   ]
  },
  {
   "cell_type": "code",
   "execution_count": null,
   "metadata": {},
   "outputs": [],
   "source": [
    "bb_mdl_0.plot_Bayes_network()"
   ]
  },
  {
   "cell_type": "code",
   "execution_count": null,
   "metadata": {},
   "outputs": [],
   "source": [
    "bb_mdl_0.plot_recombination_entropy()"
   ]
  },
  {
   "cell_type": "code",
   "execution_count": null,
   "metadata": {},
   "outputs": [],
   "source": [
    "df_entropy_decomposition = bb_mdl_0.get_df_entropy_decomposition()\n",
    "df_entropy_decomposition"
   ]
  },
  {
   "cell_type": "code",
   "execution_count": null,
   "metadata": {},
   "outputs": [],
   "source": [
    "len(bb_mdl_0.parms['v_choice'])"
   ]
  },
  {
   "cell_type": "code",
   "execution_count": null,
   "metadata": {},
   "outputs": [],
   "source": [
    "import numpy as np\n",
    "10**(df_entropy_decomposition['entropy'].sum()*np.log10(2))"
   ]
  },
  {
   "cell_type": "code",
   "execution_count": null,
   "metadata": {},
   "outputs": [],
   "source": [
    "ha_mdl = p3.get_default_IgorModel('human', 'beta')\n",
    "H_ha_mdl = ha_mdl.get_df_entropy_decomposition()['entropy'].sum()\n",
    "H_ha_mdl, H_ha_mdl*np.log10(2)"
   ]
  },
  {
   "cell_type": "code",
   "execution_count": null,
   "metadata": {},
   "outputs": [],
   "source": [
    "ha_mdl.genomic_dataframe_dict\n",
    "ha_mdl_0 = p3.IgorModel.make_default_from_Dataframe_dict(ha_mdl.genomic_dataframe_dict)\n",
    "H_ha_mdl_0 = ha_mdl_0.get_df_entropy_decomposition()['entropy'].sum()\n",
    "H_ha_mdl_0, H_ha_mdl_0*np.log10(2)"
   ]
  },
  {
   "cell_type": "code",
   "execution_count": null,
   "metadata": {},
   "outputs": [],
   "source": []
  }
 ],
 "metadata": {
  "kernelspec": {
   "display_name": "Python 3",
   "language": "python",
   "name": "python3"
  },
  "language_info": {
   "codemirror_mode": {
    "name": "ipython",
    "version": 3
   },
   "file_extension": ".py",
   "mimetype": "text/x-python",
   "name": "python",
   "nbconvert_exporter": "python",
   "pygments_lexer": "ipython3",
   "version": "3.7.10"
  }
 },
 "nbformat": 4,
 "nbformat_minor": 4
}
