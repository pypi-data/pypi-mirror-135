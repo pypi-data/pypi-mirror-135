{
 "cells": [
  {
   "cell_type": "code",
   "execution_count": 1,
   "id": "ed3b6402-cc15-49ff-b17c-589e4b0fe87a",
   "metadata": {},
   "outputs": [],
   "source": [
    "import pygor3 as p3"
   ]
  },
  {
   "cell_type": "markdown",
   "id": "8141b265-7aae-419c-82a2-e1e502b7f7c7",
   "metadata": {},
   "source": [
    "Get pygor version information"
   ]
  },
  {
   "cell_type": "code",
   "execution_count": 2,
   "id": "eff52e45-4738-49d9-8998-e5117567788d",
   "metadata": {},
   "outputs": [
    {
     "data": {
      "text/plain": [
       "'0.3.dev4+gd1ebfc1.d20220118'"
      ]
     },
     "execution_count": 2,
     "metadata": {},
     "output_type": "execute_result"
    }
   ],
   "source": [
    "p3.__version__"
   ]
  },
  {
   "cell_type": "markdown",
   "id": "374a1a5e-d7b8-416f-84c9-65e526e77783",
   "metadata": {},
   "source": [
    "Configuration file "
   ]
  },
  {
   "cell_type": "code",
   "execution_count": 3,
   "id": "0599737d-2e1f-4863-8c2e-3ec04b2302cb",
   "metadata": {},
   "outputs": [
    {
     "data": {
      "text/plain": [
       "'/home/olivares/.local/share/pygor3'"
      ]
     },
     "execution_count": 3,
     "metadata": {},
     "output_type": "execute_result"
    }
   ],
   "source": [
    "p3.__user_data_dir__"
   ]
  },
  {
   "cell_type": "code",
   "execution_count": 4,
   "id": "e0acc6c2-3060-4650-b60e-33f801e77a16",
   "metadata": {},
   "outputs": [
    {
     "name": "stdout",
     "output_type": "stream",
     "text": [
      "{\n",
      "    \"paths.igor_prefix\": null,\n",
      "    \"paths.igor_exec\": \"/home/olivares/GitHub/statbiophys/IGoR/igor_src/igor\",\n",
      "    \"paths.igor_data\": \"/home/olivares/.local/share/igor\",\n",
      "    \"paths.igor_models\": null,\n",
      "    \"paths.igor_src\": null\n",
      "}\n"
     ]
    }
   ],
   "source": [
    "!cat {p3.__user_data_dir__ + \"/config.json\"}"
   ]
  },
  {
   "cell_type": "markdown",
   "id": "9707147e-3657-4ff0-ba55-20ea17eb45e2",
   "metadata": {},
   "source": [
    "For temporal changes"
   ]
  },
  {
   "cell_type": "code",
   "execution_count": 5,
   "id": "cedc3b1e-04f4-40ad-8986-f1b9295c57a7",
   "metadata": {},
   "outputs": [
    {
     "data": {
      "text/plain": [
       "{'paths.igor_prefix': None,\n",
       " 'paths.igor_exec': '/home/olivares/GitHub/statbiophys/IGoR/igor_src/igor',\n",
       " 'paths.igor_data': '/home/olivares/.local/share/igor',\n",
       " 'paths.igor_models': None,\n",
       " 'paths.igor_src': None}"
      ]
     },
     "execution_count": 5,
     "metadata": {},
     "output_type": "execute_result"
    }
   ],
   "source": [
    "p3.rcParams"
   ]
  },
  {
   "cell_type": "markdown",
   "id": "c00d00f4-21c9-4b7d-a730-27f9734ea695",
   "metadata": {},
   "source": [
    "To Run this demo we recomend to use jupyter lab\n",
    "\n",
    "$ conda install jupyterlab"
   ]
  },
  {
   "cell_type": "code",
   "execution_count": null,
   "id": "17393657-8364-4791-aa51-be2ea7deecf7",
   "metadata": {},
   "outputs": [],
   "source": []
  },
  {
   "cell_type": "code",
   "execution_count": null,
   "id": "25d840ee-a50a-412b-ab6d-dbf73a925471",
   "metadata": {},
   "outputs": [],
   "source": []
  }
 ],
 "metadata": {
  "kernelspec": {
   "display_name": "Python 3",
   "language": "python",
   "name": "python3"
  },
  "language_info": {
   "codemirror_mode": {
    "name": "ipython",
    "version": 3
   },
   "file_extension": ".py",
   "mimetype": "text/x-python",
   "name": "python",
   "nbconvert_exporter": "python",
   "pygments_lexer": "ipython3",
   "version": "3.7.10"
  }
 },
 "nbformat": 4,
 "nbformat_minor": 5
}
