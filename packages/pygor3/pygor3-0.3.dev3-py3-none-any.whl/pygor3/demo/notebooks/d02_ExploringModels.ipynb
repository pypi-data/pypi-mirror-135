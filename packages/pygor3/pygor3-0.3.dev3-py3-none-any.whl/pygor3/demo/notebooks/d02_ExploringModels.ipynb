{
 "cells": [
  {
   "cell_type": "markdown",
   "metadata": {},
   "source": [
    "# Exploring IGoR's Inferred Models"
   ]
  },
  {
   "cell_type": "markdown",
   "metadata": {},
   "source": [
    "With IGoR is possible to infer a V(D)J recombination model given sequences data.\n",
    "This models can be defined by the user or use the default models within IGoR to evaluate a model.\n",
    "IGoR's models are specified in 2 files \"model_parms.txt\" and \"model_marginals.txt\"\n",
    "\n",
    "* model_parms.txt: Contains parameters used in the model and the structure of the bayesian network.\n",
    "* model_marginals.txt: Contains the NOT the probability marginals, it contains the conditional probabilities factorized in the bayesian network.\n",
    "\n",
    "In this tutorial we gonna start with the IGoR's default models and use pygor3 package to make visualizations of these inferred models."
   ]
  },
  {
   "cell_type": "markdown",
   "metadata": {},
   "source": [
    "If you have IGoR installed in your computer (IGoR's version >= 1.4.1) pygor3 can detect automatically your default models directory.\n",
    "Now, lets try to load a model for human species and tcr_beta chain"
   ]
  },
  {
   "cell_type": "code",
   "execution_count": null,
   "metadata": {},
   "outputs": [],
   "source": [
    "import pygor3 as p3"
   ]
  },
  {
   "cell_type": "code",
   "execution_count": null,
   "metadata": {},
   "outputs": [],
   "source": [
    "species=\"human\"\n",
    "chain=\"tcr_beta\"\n",
    "mdl = p3.IgorModel.load_default(species, chain)"
   ]
  },
  {
   "cell_type": "code",
   "execution_count": null,
   "metadata": {},
   "outputs": [],
   "source": [
    "mdl.parms['d_gene']"
   ]
  },
  {
   "cell_type": "code",
   "execution_count": null,
   "metadata": {},
   "outputs": [],
   "source": [
    "mdl.marginals['d_gene']"
   ]
  },
  {
   "cell_type": "code",
   "execution_count": null,
   "metadata": {},
   "outputs": [],
   "source": [
    "mdl.xdata['d_gene']"
   ]
  },
  {
   "cell_type": "markdown",
   "metadata": {},
   "source": [
    "Now, we load the information of the model in the mdl variable. \n",
    "Notice that once you load a model pygor3 outputs the path of the files used, and all information in both files is encapsulated in the variable \"mdl\""
   ]
  },
  {
   "cell_type": "markdown",
   "metadata": {},
   "source": [
    "In particular all the information of conditional probabilities are in mdl.xdata. mdl.xdata is a dictionary with xarray structures."
   ]
  },
  {
   "cell_type": "code",
   "execution_count": null,
   "metadata": {},
   "outputs": [],
   "source": [
    "mdl.xdata.keys()"
   ]
  },
  {
   "cell_type": "markdown",
   "metadata": {},
   "source": [
    "## Structure of the Model"
   ]
  },
  {
   "cell_type": "markdown",
   "metadata": {},
   "source": [
    "We can visualize the structure of the IGoR bayesian model by using plot_Bayes_network()"
   ]
  },
  {
   "cell_type": "code",
   "execution_count": null,
   "metadata": {},
   "outputs": [],
   "source": [
    "mdl.plot_Bayes_network()"
   ]
  },
  {
   "cell_type": "markdown",
   "metadata": {},
   "source": [
    "With this we can see the nickname of the events and explore the contained information."
   ]
  },
  {
   "cell_type": "markdown",
   "metadata": {},
   "source": [
    "\n",
    "To get the conditional probabilities of an specific event we could use mdl.xdata[\"event_nickname\"] or simply\n",
    "mdl[\"event_nickname\"]"
   ]
  },
  {
   "cell_type": "code",
   "execution_count": null,
   "metadata": {},
   "outputs": [],
   "source": [
    "mdl['j_choice']"
   ]
  },
  {
   "cell_type": "markdown",
   "metadata": {},
   "source": [
    "The last steps returns a xarray structure with the information about the conditional probability P(j_choice|v_choice). From this you can get the seqs and labels of the gene events"
   ]
  },
  {
   "cell_type": "code",
   "execution_count": null,
   "metadata": {},
   "outputs": [],
   "source": [
    "mdl['j_choice'].dims"
   ]
  },
  {
   "cell_type": "code",
   "execution_count": null,
   "metadata": {},
   "outputs": [],
   "source": [
    "mdl['j_choice']['j_choice']"
   ]
  },
  {
   "cell_type": "code",
   "execution_count": null,
   "metadata": {},
   "outputs": [],
   "source": [
    "mdl['j_choice']['lbl__j_choice']"
   ]
  },
  {
   "cell_type": "code",
   "execution_count": null,
   "metadata": {},
   "outputs": [],
   "source": [
    "mdl['j_choice']['seq__j_choice']"
   ]
  },
  {
   "cell_type": "markdown",
   "metadata": {},
   "source": [
    "To get specific probability values a python dictionary is used to query a specific probability.\n",
    "Example: to get the J gene with id 0 given that V with id 2 has choosen."
   ]
  },
  {
   "cell_type": "code",
   "execution_count": null,
   "metadata": {},
   "outputs": [],
   "source": [
    "mdl['j_choice'][{'j_choice':0, 'v_choice':2}]"
   ]
  },
  {
   "cell_type": "markdown",
   "metadata": {},
   "source": [
    "As you can see from the Bayesian network plot, j_choice has parents and childs, and this information is stored as an attribute in the xarray structure among other informations."
   ]
  },
  {
   "cell_type": "code",
   "execution_count": null,
   "metadata": {},
   "outputs": [],
   "source": [
    "mdl['j_choice'].attrs"
   ]
  },
  {
   "cell_type": "markdown",
   "metadata": {},
   "source": [
    "Notice that this operation preserve the labels and sequence and id of the events.\n",
    "From this point you can explore model as you which. For instance you can calculate the marginal probability of 'j_choice'."
   ]
  },
  {
   "cell_type": "markdown",
   "metadata": {},
   "source": [
    "As can be seen 'j_choice' parent is only 'v_choice' and because 'v_choice' has no parents then the marginal for this event should be"
   ]
  },
  {
   "cell_type": "code",
   "execution_count": null,
   "metadata": {},
   "outputs": [],
   "source": [
    "Pmarginal_j_choice = mdl['j_choice'].dot(mdl['v_choice'])\n",
    "Pmarginal_j_choice"
   ]
  },
  {
   "cell_type": "code",
   "execution_count": null,
   "metadata": {},
   "outputs": [],
   "source": [
    "Pmarginal_j_choice.plot()"
   ]
  },
  {
   "cell_type": "markdown",
   "metadata": {},
   "source": [
    "However, pygor3 calculates the marginals when a new model is load and is stored in the dictionary parameter Pmarginal and a way to plot it using the method plot_Event_Marginal"
   ]
  },
  {
   "cell_type": "code",
   "execution_count": null,
   "metadata": {},
   "outputs": [],
   "source": [
    "mdl.Pmarginal['j_choice']"
   ]
  },
  {
   "cell_type": "code",
   "execution_count": null,
   "metadata": {},
   "outputs": [],
   "source": [
    "mdl.plot_Event_Marginal('j_choice')"
   ]
  },
  {
   "cell_type": "markdown",
   "metadata": {},
   "source": [
    "### Export models"
   ]
  },
  {
   "cell_type": "markdown",
   "metadata": {},
   "source": [
    "Models can be exported to pandas dataframes in case you need it and then exporte it to a file manually or you can use the export-model pygor3 script"
   ]
  },
  {
   "cell_type": "code",
   "execution_count": null,
   "metadata": {},
   "outputs": [],
   "source": [
    "df_ev = mdl.Pmarginal['v_choice'].to_dataframe(name='P')\n",
    "df_ev.head()"
   ]
  },
  {
   "cell_type": "markdown",
   "metadata": {},
   "source": [
    "## Plotting models"
   ]
  },
  {
   "cell_type": "markdown",
   "metadata": {},
   "source": [
    "The plot_Event_Marginal can be personalized if an matplotlib axes object is pass in the paramter ax."
   ]
  },
  {
   "cell_type": "markdown",
   "metadata": {},
   "source": [
    "### Plotting GeneChoice marginals"
   ]
  },
  {
   "cell_type": "code",
   "execution_count": null,
   "metadata": {},
   "outputs": [],
   "source": [
    "import matplotlib.pyplot as plt\n",
    "fig = plt.figure(figsize=(18, 20))\n",
    "grid = plt.GridSpec(2, 3, hspace=0.2, wspace=0.2)\n",
    "grid\n",
    "ax_v = fig.add_subplot(grid[0, :])\n",
    "ax_j = fig.add_subplot(grid[1, 0:2])\n",
    "ax_d = fig.add_subplot(grid[1, 2])\n",
    "\n",
    "mdl.plot_Event_Marginal('v_choice', ax=ax_v)\n",
    "mdl.plot_Event_Marginal('j_choice', ax=ax_j)\n",
    "mdl.plot_Event_Marginal('d_gene', ax=ax_d)"
   ]
  },
  {
   "cell_type": "markdown",
   "metadata": {},
   "source": [
    "### Plotting Insertions and deletions marginals"
   ]
  },
  {
   "cell_type": "code",
   "execution_count": null,
   "metadata": {},
   "outputs": [],
   "source": [
    "fig, ax = plt.subplots(1, 2, figsize=(16, 6))\n",
    "mdl.plot_Event_Marginal('v_3_del', ax=ax[0], marker='o', label='V3')\n",
    "mdl.plot_Event_Marginal('j_5_del', ax=ax[0], marker='x', label='J5')\n",
    "mdl.plot_Event_Marginal('d_3_del', ax=ax[0], marker='s', label='D3')\n",
    "mdl.plot_Event_Marginal('d_5_del', ax=ax[0], marker='s', label='D5')\n",
    "ax[0].set_xlabel(\"Deletions\")\n",
    "ax[0].legend()\n",
    "\n",
    "mdl.plot_Event_Marginal('vd_ins', ax=ax[1], marker='o', label='VD')\n",
    "mdl.plot_Event_Marginal('dj_ins', ax=ax[1], marker='s', label='DJ')\n",
    "ax[1].set_xlabel(\"Insertions\")\n",
    "ax[1].legend()"
   ]
  },
  {
   "cell_type": "markdown",
   "metadata": {},
   "source": [
    "### Plotting DinucMarkov marginals"
   ]
  },
  {
   "cell_type": "code",
   "execution_count": null,
   "metadata": {},
   "outputs": [],
   "source": [
    "fig, ax = plt.subplots(1, 2, figsize=(18,8))\n",
    "mdl.plot_Event_Marginal('vd_dinucl', ax=ax[0])\n",
    "mdl.plot_Event_Marginal('dj_dinucl', ax=ax[1])"
   ]
  },
  {
   "cell_type": "markdown",
   "metadata": {},
   "source": []
  },
  {
   "cell_type": "markdown",
   "metadata": {},
   "source": [
    "### Conditional Probabilities"
   ]
  },
  {
   "cell_type": "code",
   "execution_count": null,
   "metadata": {},
   "outputs": [],
   "source": [
    "event_nickname='d_3_del'\n",
    "mdl[event_nickname]"
   ]
  },
  {
   "cell_type": "code",
   "execution_count": null,
   "metadata": {},
   "outputs": [],
   "source": [
    "fig, ax = plt.subplots(figsize=(18,15))\n",
    "event_nickname='j_choice'\n",
    "mdl[event_nickname].plot(ax=ax, cmap='gnuplot2_r')\n",
    "titulo = \"$P($\"+event_nickname+\"$|$\"+\",\".join(mdl[event_nickname].attrs['parents'])+\"$)$\"\n",
    "ax.set_title(titulo)\n",
    "ax.set_aspect('equal')"
   ]
  },
  {
   "cell_type": "code",
   "execution_count": null,
   "metadata": {},
   "outputs": [],
   "source": [
    "event_nickname\n",
    "# mdl[event_nickname].plot()"
   ]
  },
  {
   "cell_type": "code",
   "execution_count": null,
   "metadata": {},
   "outputs": [],
   "source": [
    "import matplotlib.pyplot as plt\n",
    "# mdl[event_nickname].dims\n",
    "event_nickname='d_gene'\n",
    "da = mdl[event_nickname]\n",
    "fig, ax = plt.subplots(*da[event_nickname].shape, figsize=(10,20))\n",
    "\n",
    "for ii, ev_realiz in enumerate(da[event_nickname]):\n",
    "    #print(ev_realiz.values)\n",
    "    da[{event_nickname: ev_realiz.values}].plot(ax=ax[ii], cmap='gnuplot2_r')\n",
    "    titulo = \"$P($\" + event_nickname + \"$ = $ \" +ev_realiz[\"lbl__\"+event_nickname].values + \" $|$\" + \",\".join(da.attrs['parents']) + \"$)$\"\n",
    "    ax[ii].set_title(titulo)\n",
    "    "
   ]
  },
  {
   "cell_type": "code",
   "execution_count": null,
   "metadata": {},
   "outputs": [],
   "source": [
    "mdl['v_3_del']"
   ]
  },
  {
   "cell_type": "code",
   "execution_count": null,
   "metadata": {},
   "outputs": [],
   "source": [
    "df_entropy_decomposition = mdl.get_df_entropy_decomposition()\n",
    "df_entropy_decomposition"
   ]
  },
  {
   "cell_type": "code",
   "execution_count": null,
   "metadata": {},
   "outputs": [],
   "source": [
    "mdl.plot_recombination_entropy()"
   ]
  },
  {
   "cell_type": "code",
   "execution_count": null,
   "metadata": {},
   "outputs": [],
   "source": [
    "len(mdl.parms['v_choice'])\n",
    "import numpy as np\n",
    "10**( 5.3*np.log10(2) )"
   ]
  },
  {
   "cell_type": "code",
   "execution_count": null,
   "metadata": {},
   "outputs": [],
   "source": [
    "mdl.export_csv('tmp')\n",
    "# libreoffice tmp_"
   ]
  },
  {
   "cell_type": "code",
   "execution_count": null,
   "metadata": {},
   "outputs": [],
   "source": [
    "mdl.export_plot_Pconditionals('tmp_CP')"
   ]
  },
  {
   "cell_type": "code",
   "execution_count": null,
   "metadata": {},
   "outputs": [],
   "source": [
    "mdl.export_plot_Pmarginals('tmp_MP')"
   ]
  },
  {
   "cell_type": "code",
   "execution_count": null,
   "metadata": {},
   "outputs": [],
   "source": [
    "P_VD = mdl_hb.get_P_joint(['v_choice', 'd_gene'])\n",
    "P_VD"
   ]
  },
  {
   "cell_type": "code",
   "execution_count": null,
   "metadata": {},
   "outputs": [],
   "source": [
    "P_VD.plot()"
   ]
  },
  {
   "cell_type": "code",
   "execution_count": null,
   "metadata": {},
   "outputs": [],
   "source": [
    "da_mi = mdl.get_mutual_information"
   ]
  },
  {
   "cell_type": "code",
   "execution_count": null,
   "metadata": {},
   "outputs": [],
   "source": [
    "mdl.plot_mutual_information(da_mi)"
   ]
  }
 ],
 "metadata": {
  "kernelspec": {
   "display_name": "Python 3",
   "language": "python",
   "name": "python3"
  },
  "language_info": {
   "codemirror_mode": {
    "name": "ipython",
    "version": 3
   },
   "file_extension": ".py",
   "mimetype": "text/x-python",
   "name": "python",
   "nbconvert_exporter": "python",
   "pygments_lexer": "ipython3",
   "version": "3.7.10"
  }
 },
 "nbformat": 4,
 "nbformat_minor": 4
}
