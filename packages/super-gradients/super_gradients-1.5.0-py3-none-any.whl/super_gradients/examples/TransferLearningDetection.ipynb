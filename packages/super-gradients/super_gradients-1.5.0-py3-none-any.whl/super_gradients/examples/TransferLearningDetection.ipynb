{
  "nbformat": 4,
  "nbformat_minor": 0,
  "metadata": {
    "colab": {
      "name": "TransferLearningDetection.ipynb",
      "provenance": [],
      "collapsed_sections": []
    },
    "kernelspec": {
      "name": "python3",
      "display_name": "Python 3"
    },
    "language_info": {
      "name": "python"
    },
    "accelerator": "GPU",
    "widgets": {
      "application/vnd.jupyter.widget-state+json": {
        "af44e3bfd58748d88bbdc490a8e13820": {
          "model_module": "@jupyter-widgets/controls",
          "model_name": "HBoxModel",
          "model_module_version": "1.5.0",
          "state": {
            "_view_name": "HBoxView",
            "_dom_classes": [],
            "_model_name": "HBoxModel",
            "_view_module": "@jupyter-widgets/controls",
            "_model_module_version": "1.5.0",
            "_view_count": null,
            "_view_module_version": "1.5.0",
            "box_style": "",
            "layout": "IPY_MODEL_e448504c159d40f393261d6150e89482",
            "_model_module": "@jupyter-widgets/controls",
            "children": [
              "IPY_MODEL_bd421fec23b0494fa2109d22a9e7e0f7",
              "IPY_MODEL_9b8907f2ae04443da6eb934822197596",
              "IPY_MODEL_0cfa2042d24d4bdb9650388890efe6b6"
            ]
          }
        },
        "e448504c159d40f393261d6150e89482": {
          "model_module": "@jupyter-widgets/base",
          "model_name": "LayoutModel",
          "model_module_version": "1.2.0",
          "state": {
            "_view_name": "LayoutView",
            "grid_template_rows": null,
            "right": null,
            "justify_content": null,
            "_view_module": "@jupyter-widgets/base",
            "overflow": null,
            "_model_module_version": "1.2.0",
            "_view_count": null,
            "flex_flow": null,
            "width": null,
            "min_width": null,
            "border": null,
            "align_items": null,
            "bottom": null,
            "_model_module": "@jupyter-widgets/base",
            "top": null,
            "grid_column": null,
            "overflow_y": null,
            "overflow_x": null,
            "grid_auto_flow": null,
            "grid_area": null,
            "grid_template_columns": null,
            "flex": null,
            "_model_name": "LayoutModel",
            "justify_items": null,
            "grid_row": null,
            "max_height": null,
            "align_content": null,
            "visibility": null,
            "align_self": null,
            "height": null,
            "min_height": null,
            "padding": null,
            "grid_auto_rows": null,
            "grid_gap": null,
            "max_width": null,
            "order": null,
            "_view_module_version": "1.2.0",
            "grid_template_areas": null,
            "object_position": null,
            "object_fit": null,
            "grid_auto_columns": null,
            "margin": null,
            "display": null,
            "left": null
          }
        },
        "bd421fec23b0494fa2109d22a9e7e0f7": {
          "model_module": "@jupyter-widgets/controls",
          "model_name": "HTMLModel",
          "model_module_version": "1.5.0",
          "state": {
            "_view_name": "HTMLView",
            "style": "IPY_MODEL_ecf37cd7be3c41b08a20e190b1676ca2",
            "_dom_classes": [],
            "description": "",
            "_model_name": "HTMLModel",
            "placeholder": "​",
            "_view_module": "@jupyter-widgets/controls",
            "_model_module_version": "1.5.0",
            "value": "100%",
            "_view_count": null,
            "_view_module_version": "1.5.0",
            "description_tooltip": null,
            "_model_module": "@jupyter-widgets/controls",
            "layout": "IPY_MODEL_4c72c688ab4841e1b23a12abf25f44a7"
          }
        },
        "9b8907f2ae04443da6eb934822197596": {
          "model_module": "@jupyter-widgets/controls",
          "model_name": "FloatProgressModel",
          "model_module_version": "1.5.0",
          "state": {
            "_view_name": "ProgressView",
            "style": "IPY_MODEL_9e622b890ae0424abee29fc45935c4d5",
            "_dom_classes": [],
            "description": "",
            "_model_name": "FloatProgressModel",
            "bar_style": "success",
            "max": 445914070,
            "_view_module": "@jupyter-widgets/controls",
            "_model_module_version": "1.5.0",
            "value": 445914070,
            "_view_count": null,
            "_view_module_version": "1.5.0",
            "orientation": "horizontal",
            "min": 0,
            "description_tooltip": null,
            "_model_module": "@jupyter-widgets/controls",
            "layout": "IPY_MODEL_6c5d1b139b7842b9a1311429f731d96e"
          }
        },
        "0cfa2042d24d4bdb9650388890efe6b6": {
          "model_module": "@jupyter-widgets/controls",
          "model_name": "HTMLModel",
          "model_module_version": "1.5.0",
          "state": {
            "_view_name": "HTMLView",
            "style": "IPY_MODEL_3de89fe6d78148688604c027d745b778",
            "_dom_classes": [],
            "description": "",
            "_model_name": "HTMLModel",
            "placeholder": "​",
            "_view_module": "@jupyter-widgets/controls",
            "_model_module_version": "1.5.0",
            "value": " 425M/425M [00:06&lt;00:00, 69.7MB/s]",
            "_view_count": null,
            "_view_module_version": "1.5.0",
            "description_tooltip": null,
            "_model_module": "@jupyter-widgets/controls",
            "layout": "IPY_MODEL_c432f46ad12749858c31467bf837266d"
          }
        },
        "ecf37cd7be3c41b08a20e190b1676ca2": {
          "model_module": "@jupyter-widgets/controls",
          "model_name": "DescriptionStyleModel",
          "model_module_version": "1.5.0",
          "state": {
            "_view_name": "StyleView",
            "_model_name": "DescriptionStyleModel",
            "description_width": "",
            "_view_module": "@jupyter-widgets/base",
            "_model_module_version": "1.5.0",
            "_view_count": null,
            "_view_module_version": "1.2.0",
            "_model_module": "@jupyter-widgets/controls"
          }
        },
        "4c72c688ab4841e1b23a12abf25f44a7": {
          "model_module": "@jupyter-widgets/base",
          "model_name": "LayoutModel",
          "model_module_version": "1.2.0",
          "state": {
            "_view_name": "LayoutView",
            "grid_template_rows": null,
            "right": null,
            "justify_content": null,
            "_view_module": "@jupyter-widgets/base",
            "overflow": null,
            "_model_module_version": "1.2.0",
            "_view_count": null,
            "flex_flow": null,
            "width": null,
            "min_width": null,
            "border": null,
            "align_items": null,
            "bottom": null,
            "_model_module": "@jupyter-widgets/base",
            "top": null,
            "grid_column": null,
            "overflow_y": null,
            "overflow_x": null,
            "grid_auto_flow": null,
            "grid_area": null,
            "grid_template_columns": null,
            "flex": null,
            "_model_name": "LayoutModel",
            "justify_items": null,
            "grid_row": null,
            "max_height": null,
            "align_content": null,
            "visibility": null,
            "align_self": null,
            "height": null,
            "min_height": null,
            "padding": null,
            "grid_auto_rows": null,
            "grid_gap": null,
            "max_width": null,
            "order": null,
            "_view_module_version": "1.2.0",
            "grid_template_areas": null,
            "object_position": null,
            "object_fit": null,
            "grid_auto_columns": null,
            "margin": null,
            "display": null,
            "left": null
          }
        },
        "9e622b890ae0424abee29fc45935c4d5": {
          "model_module": "@jupyter-widgets/controls",
          "model_name": "ProgressStyleModel",
          "model_module_version": "1.5.0",
          "state": {
            "_view_name": "StyleView",
            "_model_name": "ProgressStyleModel",
            "description_width": "",
            "_view_module": "@jupyter-widgets/base",
            "_model_module_version": "1.5.0",
            "_view_count": null,
            "_view_module_version": "1.2.0",
            "bar_color": null,
            "_model_module": "@jupyter-widgets/controls"
          }
        },
        "6c5d1b139b7842b9a1311429f731d96e": {
          "model_module": "@jupyter-widgets/base",
          "model_name": "LayoutModel",
          "model_module_version": "1.2.0",
          "state": {
            "_view_name": "LayoutView",
            "grid_template_rows": null,
            "right": null,
            "justify_content": null,
            "_view_module": "@jupyter-widgets/base",
            "overflow": null,
            "_model_module_version": "1.2.0",
            "_view_count": null,
            "flex_flow": null,
            "width": null,
            "min_width": null,
            "border": null,
            "align_items": null,
            "bottom": null,
            "_model_module": "@jupyter-widgets/base",
            "top": null,
            "grid_column": null,
            "overflow_y": null,
            "overflow_x": null,
            "grid_auto_flow": null,
            "grid_area": null,
            "grid_template_columns": null,
            "flex": null,
            "_model_name": "LayoutModel",
            "justify_items": null,
            "grid_row": null,
            "max_height": null,
            "align_content": null,
            "visibility": null,
            "align_self": null,
            "height": null,
            "min_height": null,
            "padding": null,
            "grid_auto_rows": null,
            "grid_gap": null,
            "max_width": null,
            "order": null,
            "_view_module_version": "1.2.0",
            "grid_template_areas": null,
            "object_position": null,
            "object_fit": null,
            "grid_auto_columns": null,
            "margin": null,
            "display": null,
            "left": null
          }
        },
        "3de89fe6d78148688604c027d745b778": {
          "model_module": "@jupyter-widgets/controls",
          "model_name": "DescriptionStyleModel",
          "model_module_version": "1.5.0",
          "state": {
            "_view_name": "StyleView",
            "_model_name": "DescriptionStyleModel",
            "description_width": "",
            "_view_module": "@jupyter-widgets/base",
            "_model_module_version": "1.5.0",
            "_view_count": null,
            "_view_module_version": "1.2.0",
            "_model_module": "@jupyter-widgets/controls"
          }
        },
        "c432f46ad12749858c31467bf837266d": {
          "model_module": "@jupyter-widgets/base",
          "model_name": "LayoutModel",
          "model_module_version": "1.2.0",
          "state": {
            "_view_name": "LayoutView",
            "grid_template_rows": null,
            "right": null,
            "justify_content": null,
            "_view_module": "@jupyter-widgets/base",
            "overflow": null,
            "_model_module_version": "1.2.0",
            "_view_count": null,
            "flex_flow": null,
            "width": null,
            "min_width": null,
            "border": null,
            "align_items": null,
            "bottom": null,
            "_model_module": "@jupyter-widgets/base",
            "top": null,
            "grid_column": null,
            "overflow_y": null,
            "overflow_x": null,
            "grid_auto_flow": null,
            "grid_area": null,
            "grid_template_columns": null,
            "flex": null,
            "_model_name": "LayoutModel",
            "justify_items": null,
            "grid_row": null,
            "max_height": null,
            "align_content": null,
            "visibility": null,
            "align_self": null,
            "height": null,
            "min_height": null,
            "padding": null,
            "grid_auto_rows": null,
            "grid_gap": null,
            "max_width": null,
            "order": null,
            "_view_module_version": "1.2.0",
            "grid_template_areas": null,
            "object_position": null,
            "object_fit": null,
            "grid_auto_columns": null,
            "margin": null,
            "display": null,
            "left": null
          }
        },
        "f60b7f6050c74c4bbbf70be6c93b3384": {
          "model_module": "@jupyter-widgets/controls",
          "model_name": "HBoxModel",
          "model_module_version": "1.5.0",
          "state": {
            "_view_name": "HBoxView",
            "_dom_classes": [],
            "_model_name": "HBoxModel",
            "_view_module": "@jupyter-widgets/controls",
            "_model_module_version": "1.5.0",
            "_view_count": null,
            "_view_module_version": "1.5.0",
            "box_style": "",
            "layout": "IPY_MODEL_3fb38479a860481ba6756f70e6c79e99",
            "_model_module": "@jupyter-widgets/controls",
            "children": [
              "IPY_MODEL_2ebb0ba893f5412285e0fdba0a22713a",
              "IPY_MODEL_9a7be0d0f82041cd847e80856bd8ab6d",
              "IPY_MODEL_55b07f9ed8a64f7f8769e8de29413890"
            ]
          }
        },
        "3fb38479a860481ba6756f70e6c79e99": {
          "model_module": "@jupyter-widgets/base",
          "model_name": "LayoutModel",
          "model_module_version": "1.2.0",
          "state": {
            "_view_name": "LayoutView",
            "grid_template_rows": null,
            "right": null,
            "justify_content": null,
            "_view_module": "@jupyter-widgets/base",
            "overflow": null,
            "_model_module_version": "1.2.0",
            "_view_count": null,
            "flex_flow": null,
            "width": null,
            "min_width": null,
            "border": null,
            "align_items": null,
            "bottom": null,
            "_model_module": "@jupyter-widgets/base",
            "top": null,
            "grid_column": null,
            "overflow_y": null,
            "overflow_x": null,
            "grid_auto_flow": null,
            "grid_area": null,
            "grid_template_columns": null,
            "flex": null,
            "_model_name": "LayoutModel",
            "justify_items": null,
            "grid_row": null,
            "max_height": null,
            "align_content": null,
            "visibility": null,
            "align_self": null,
            "height": null,
            "min_height": null,
            "padding": null,
            "grid_auto_rows": null,
            "grid_gap": null,
            "max_width": null,
            "order": null,
            "_view_module_version": "1.2.0",
            "grid_template_areas": null,
            "object_position": null,
            "object_fit": null,
            "grid_auto_columns": null,
            "margin": null,
            "display": null,
            "left": null
          }
        },
        "2ebb0ba893f5412285e0fdba0a22713a": {
          "model_module": "@jupyter-widgets/controls",
          "model_name": "HTMLModel",
          "model_module_version": "1.5.0",
          "state": {
            "_view_name": "HTMLView",
            "style": "IPY_MODEL_63efb5b5ab4740ab8e5097b53f9a219f",
            "_dom_classes": [],
            "description": "",
            "_model_name": "HTMLModel",
            "placeholder": "​",
            "_view_module": "@jupyter-widgets/controls",
            "_model_module_version": "1.5.0",
            "value": "100%",
            "_view_count": null,
            "_view_module_version": "1.5.0",
            "description_tooltip": null,
            "_model_module": "@jupyter-widgets/controls",
            "layout": "IPY_MODEL_f62565719f65481ea5c4006b1f2c55e4"
          }
        },
        "9a7be0d0f82041cd847e80856bd8ab6d": {
          "model_module": "@jupyter-widgets/controls",
          "model_name": "FloatProgressModel",
          "model_module_version": "1.5.0",
          "state": {
            "_view_name": "ProgressView",
            "style": "IPY_MODEL_99ae0d956ba64efaa776b740168f3e2c",
            "_dom_classes": [],
            "description": "",
            "_model_name": "FloatProgressModel",
            "bar_style": "success",
            "max": 438316827,
            "_view_module": "@jupyter-widgets/controls",
            "_model_module_version": "1.5.0",
            "value": 438316827,
            "_view_count": null,
            "_view_module_version": "1.5.0",
            "orientation": "horizontal",
            "min": 0,
            "description_tooltip": null,
            "_model_module": "@jupyter-widgets/controls",
            "layout": "IPY_MODEL_e706cada77bf42e38068167994655d42"
          }
        },
        "55b07f9ed8a64f7f8769e8de29413890": {
          "model_module": "@jupyter-widgets/controls",
          "model_name": "HTMLModel",
          "model_module_version": "1.5.0",
          "state": {
            "_view_name": "HTMLView",
            "style": "IPY_MODEL_cc093f0fa0c742bcaefa9f1f2266bf3d",
            "_dom_classes": [],
            "description": "",
            "_model_name": "HTMLModel",
            "placeholder": "​",
            "_view_module": "@jupyter-widgets/controls",
            "_model_module_version": "1.5.0",
            "value": " 418M/418M [00:13&lt;00:00, 16.9MB/s]",
            "_view_count": null,
            "_view_module_version": "1.5.0",
            "description_tooltip": null,
            "_model_module": "@jupyter-widgets/controls",
            "layout": "IPY_MODEL_144eb73e2586491bb53a1ce91ddc70b4"
          }
        },
        "63efb5b5ab4740ab8e5097b53f9a219f": {
          "model_module": "@jupyter-widgets/controls",
          "model_name": "DescriptionStyleModel",
          "model_module_version": "1.5.0",
          "state": {
            "_view_name": "StyleView",
            "_model_name": "DescriptionStyleModel",
            "description_width": "",
            "_view_module": "@jupyter-widgets/base",
            "_model_module_version": "1.5.0",
            "_view_count": null,
            "_view_module_version": "1.2.0",
            "_model_module": "@jupyter-widgets/controls"
          }
        },
        "f62565719f65481ea5c4006b1f2c55e4": {
          "model_module": "@jupyter-widgets/base",
          "model_name": "LayoutModel",
          "model_module_version": "1.2.0",
          "state": {
            "_view_name": "LayoutView",
            "grid_template_rows": null,
            "right": null,
            "justify_content": null,
            "_view_module": "@jupyter-widgets/base",
            "overflow": null,
            "_model_module_version": "1.2.0",
            "_view_count": null,
            "flex_flow": null,
            "width": null,
            "min_width": null,
            "border": null,
            "align_items": null,
            "bottom": null,
            "_model_module": "@jupyter-widgets/base",
            "top": null,
            "grid_column": null,
            "overflow_y": null,
            "overflow_x": null,
            "grid_auto_flow": null,
            "grid_area": null,
            "grid_template_columns": null,
            "flex": null,
            "_model_name": "LayoutModel",
            "justify_items": null,
            "grid_row": null,
            "max_height": null,
            "align_content": null,
            "visibility": null,
            "align_self": null,
            "height": null,
            "min_height": null,
            "padding": null,
            "grid_auto_rows": null,
            "grid_gap": null,
            "max_width": null,
            "order": null,
            "_view_module_version": "1.2.0",
            "grid_template_areas": null,
            "object_position": null,
            "object_fit": null,
            "grid_auto_columns": null,
            "margin": null,
            "display": null,
            "left": null
          }
        },
        "99ae0d956ba64efaa776b740168f3e2c": {
          "model_module": "@jupyter-widgets/controls",
          "model_name": "ProgressStyleModel",
          "model_module_version": "1.5.0",
          "state": {
            "_view_name": "StyleView",
            "_model_name": "ProgressStyleModel",
            "description_width": "",
            "_view_module": "@jupyter-widgets/base",
            "_model_module_version": "1.5.0",
            "_view_count": null,
            "_view_module_version": "1.2.0",
            "bar_color": null,
            "_model_module": "@jupyter-widgets/controls"
          }
        },
        "e706cada77bf42e38068167994655d42": {
          "model_module": "@jupyter-widgets/base",
          "model_name": "LayoutModel",
          "model_module_version": "1.2.0",
          "state": {
            "_view_name": "LayoutView",
            "grid_template_rows": null,
            "right": null,
            "justify_content": null,
            "_view_module": "@jupyter-widgets/base",
            "overflow": null,
            "_model_module_version": "1.2.0",
            "_view_count": null,
            "flex_flow": null,
            "width": null,
            "min_width": null,
            "border": null,
            "align_items": null,
            "bottom": null,
            "_model_module": "@jupyter-widgets/base",
            "top": null,
            "grid_column": null,
            "overflow_y": null,
            "overflow_x": null,
            "grid_auto_flow": null,
            "grid_area": null,
            "grid_template_columns": null,
            "flex": null,
            "_model_name": "LayoutModel",
            "justify_items": null,
            "grid_row": null,
            "max_height": null,
            "align_content": null,
            "visibility": null,
            "align_self": null,
            "height": null,
            "min_height": null,
            "padding": null,
            "grid_auto_rows": null,
            "grid_gap": null,
            "max_width": null,
            "order": null,
            "_view_module_version": "1.2.0",
            "grid_template_areas": null,
            "object_position": null,
            "object_fit": null,
            "grid_auto_columns": null,
            "margin": null,
            "display": null,
            "left": null
          }
        },
        "cc093f0fa0c742bcaefa9f1f2266bf3d": {
          "model_module": "@jupyter-widgets/controls",
          "model_name": "DescriptionStyleModel",
          "model_module_version": "1.5.0",
          "state": {
            "_view_name": "StyleView",
            "_model_name": "DescriptionStyleModel",
            "description_width": "",
            "_view_module": "@jupyter-widgets/base",
            "_model_module_version": "1.5.0",
            "_view_count": null,
            "_view_module_version": "1.2.0",
            "_model_module": "@jupyter-widgets/controls"
          }
        },
        "144eb73e2586491bb53a1ce91ddc70b4": {
          "model_module": "@jupyter-widgets/base",
          "model_name": "LayoutModel",
          "model_module_version": "1.2.0",
          "state": {
            "_view_name": "LayoutView",
            "grid_template_rows": null,
            "right": null,
            "justify_content": null,
            "_view_module": "@jupyter-widgets/base",
            "overflow": null,
            "_model_module_version": "1.2.0",
            "_view_count": null,
            "flex_flow": null,
            "width": null,
            "min_width": null,
            "border": null,
            "align_items": null,
            "bottom": null,
            "_model_module": "@jupyter-widgets/base",
            "top": null,
            "grid_column": null,
            "overflow_y": null,
            "overflow_x": null,
            "grid_auto_flow": null,
            "grid_area": null,
            "grid_template_columns": null,
            "flex": null,
            "_model_name": "LayoutModel",
            "justify_items": null,
            "grid_row": null,
            "max_height": null,
            "align_content": null,
            "visibility": null,
            "align_self": null,
            "height": null,
            "min_height": null,
            "padding": null,
            "grid_auto_rows": null,
            "grid_gap": null,
            "max_width": null,
            "order": null,
            "_view_module_version": "1.2.0",
            "grid_template_areas": null,
            "object_position": null,
            "object_fit": null,
            "grid_auto_columns": null,
            "margin": null,
            "display": null,
            "left": null
          }
        },
        "9600b01dec0746d9b8fb51d7d053a162": {
          "model_module": "@jupyter-widgets/controls",
          "model_name": "HBoxModel",
          "model_module_version": "1.5.0",
          "state": {
            "_view_name": "HBoxView",
            "_dom_classes": [],
            "_model_name": "HBoxModel",
            "_view_module": "@jupyter-widgets/controls",
            "_model_module_version": "1.5.0",
            "_view_count": null,
            "_view_module_version": "1.5.0",
            "box_style": "",
            "layout": "IPY_MODEL_a4db9a96448b4e84bcab60ba3c5d6da9",
            "_model_module": "@jupyter-widgets/controls",
            "children": [
              "IPY_MODEL_164b838c52ed4019b36d6ef9cc467926",
              "IPY_MODEL_628a2b592c0c46f4b15c16b8acd1834b",
              "IPY_MODEL_a382070d508649baaa8dba58cf2103da"
            ]
          }
        },
        "a4db9a96448b4e84bcab60ba3c5d6da9": {
          "model_module": "@jupyter-widgets/base",
          "model_name": "LayoutModel",
          "model_module_version": "1.2.0",
          "state": {
            "_view_name": "LayoutView",
            "grid_template_rows": null,
            "right": null,
            "justify_content": null,
            "_view_module": "@jupyter-widgets/base",
            "overflow": null,
            "_model_module_version": "1.2.0",
            "_view_count": null,
            "flex_flow": null,
            "width": null,
            "min_width": null,
            "border": null,
            "align_items": null,
            "bottom": null,
            "_model_module": "@jupyter-widgets/base",
            "top": null,
            "grid_column": null,
            "overflow_y": null,
            "overflow_x": null,
            "grid_auto_flow": null,
            "grid_area": null,
            "grid_template_columns": null,
            "flex": null,
            "_model_name": "LayoutModel",
            "justify_items": null,
            "grid_row": null,
            "max_height": null,
            "align_content": null,
            "visibility": null,
            "align_self": null,
            "height": null,
            "min_height": null,
            "padding": null,
            "grid_auto_rows": null,
            "grid_gap": null,
            "max_width": null,
            "order": null,
            "_view_module_version": "1.2.0",
            "grid_template_areas": null,
            "object_position": null,
            "object_fit": null,
            "grid_auto_columns": null,
            "margin": null,
            "display": null,
            "left": null
          }
        },
        "164b838c52ed4019b36d6ef9cc467926": {
          "model_module": "@jupyter-widgets/controls",
          "model_name": "HTMLModel",
          "model_module_version": "1.5.0",
          "state": {
            "_view_name": "HTMLView",
            "style": "IPY_MODEL_dc43aba7f2ed4d6cad2cda07398ce5ca",
            "_dom_classes": [],
            "description": "",
            "_model_name": "HTMLModel",
            "placeholder": "​",
            "_view_module": "@jupyter-widgets/controls",
            "_model_module_version": "1.5.0",
            "value": "100%",
            "_view_count": null,
            "_view_module_version": "1.5.0",
            "description_tooltip": null,
            "_model_module": "@jupyter-widgets/controls",
            "layout": "IPY_MODEL_8714bc26c28b41f6aef4f5451d9bf82f"
          }
        },
        "628a2b592c0c46f4b15c16b8acd1834b": {
          "model_module": "@jupyter-widgets/controls",
          "model_name": "FloatProgressModel",
          "model_module_version": "1.5.0",
          "state": {
            "_view_name": "ProgressView",
            "style": "IPY_MODEL_a6e8ecc48ea149b098ba0e38f4e081ed",
            "_dom_classes": [],
            "description": "",
            "_model_name": "FloatProgressModel",
            "bar_style": "success",
            "max": 1950180009,
            "_view_module": "@jupyter-widgets/controls",
            "_model_module_version": "1.5.0",
            "value": 1950180009,
            "_view_count": null,
            "_view_module_version": "1.5.0",
            "orientation": "horizontal",
            "min": 0,
            "description_tooltip": null,
            "_model_module": "@jupyter-widgets/controls",
            "layout": "IPY_MODEL_acf371f72a9a42ea8bfbe615f32a46b2"
          }
        },
        "a382070d508649baaa8dba58cf2103da": {
          "model_module": "@jupyter-widgets/controls",
          "model_name": "HTMLModel",
          "model_module_version": "1.5.0",
          "state": {
            "_view_name": "HTMLView",
            "style": "IPY_MODEL_b360278cc9f241a78593050a5bf97669",
            "_dom_classes": [],
            "description": "",
            "_model_name": "HTMLModel",
            "placeholder": "​",
            "_view_module": "@jupyter-widgets/controls",
            "_model_module_version": "1.5.0",
            "value": " 1.82G/1.82G [00:42&lt;00:00, 97.2MB/s]",
            "_view_count": null,
            "_view_module_version": "1.5.0",
            "description_tooltip": null,
            "_model_module": "@jupyter-widgets/controls",
            "layout": "IPY_MODEL_d6329c7f9d7c4a16b755184e65c7ca59"
          }
        },
        "dc43aba7f2ed4d6cad2cda07398ce5ca": {
          "model_module": "@jupyter-widgets/controls",
          "model_name": "DescriptionStyleModel",
          "model_module_version": "1.5.0",
          "state": {
            "_view_name": "StyleView",
            "_model_name": "DescriptionStyleModel",
            "description_width": "",
            "_view_module": "@jupyter-widgets/base",
            "_model_module_version": "1.5.0",
            "_view_count": null,
            "_view_module_version": "1.2.0",
            "_model_module": "@jupyter-widgets/controls"
          }
        },
        "8714bc26c28b41f6aef4f5451d9bf82f": {
          "model_module": "@jupyter-widgets/base",
          "model_name": "LayoutModel",
          "model_module_version": "1.2.0",
          "state": {
            "_view_name": "LayoutView",
            "grid_template_rows": null,
            "right": null,
            "justify_content": null,
            "_view_module": "@jupyter-widgets/base",
            "overflow": null,
            "_model_module_version": "1.2.0",
            "_view_count": null,
            "flex_flow": null,
            "width": null,
            "min_width": null,
            "border": null,
            "align_items": null,
            "bottom": null,
            "_model_module": "@jupyter-widgets/base",
            "top": null,
            "grid_column": null,
            "overflow_y": null,
            "overflow_x": null,
            "grid_auto_flow": null,
            "grid_area": null,
            "grid_template_columns": null,
            "flex": null,
            "_model_name": "LayoutModel",
            "justify_items": null,
            "grid_row": null,
            "max_height": null,
            "align_content": null,
            "visibility": null,
            "align_self": null,
            "height": null,
            "min_height": null,
            "padding": null,
            "grid_auto_rows": null,
            "grid_gap": null,
            "max_width": null,
            "order": null,
            "_view_module_version": "1.2.0",
            "grid_template_areas": null,
            "object_position": null,
            "object_fit": null,
            "grid_auto_columns": null,
            "margin": null,
            "display": null,
            "left": null
          }
        },
        "a6e8ecc48ea149b098ba0e38f4e081ed": {
          "model_module": "@jupyter-widgets/controls",
          "model_name": "ProgressStyleModel",
          "model_module_version": "1.5.0",
          "state": {
            "_view_name": "StyleView",
            "_model_name": "ProgressStyleModel",
            "description_width": "",
            "_view_module": "@jupyter-widgets/base",
            "_model_module_version": "1.5.0",
            "_view_count": null,
            "_view_module_version": "1.2.0",
            "bar_color": null,
            "_model_module": "@jupyter-widgets/controls"
          }
        },
        "acf371f72a9a42ea8bfbe615f32a46b2": {
          "model_module": "@jupyter-widgets/base",
          "model_name": "LayoutModel",
          "model_module_version": "1.2.0",
          "state": {
            "_view_name": "LayoutView",
            "grid_template_rows": null,
            "right": null,
            "justify_content": null,
            "_view_module": "@jupyter-widgets/base",
            "overflow": null,
            "_model_module_version": "1.2.0",
            "_view_count": null,
            "flex_flow": null,
            "width": null,
            "min_width": null,
            "border": null,
            "align_items": null,
            "bottom": null,
            "_model_module": "@jupyter-widgets/base",
            "top": null,
            "grid_column": null,
            "overflow_y": null,
            "overflow_x": null,
            "grid_auto_flow": null,
            "grid_area": null,
            "grid_template_columns": null,
            "flex": null,
            "_model_name": "LayoutModel",
            "justify_items": null,
            "grid_row": null,
            "max_height": null,
            "align_content": null,
            "visibility": null,
            "align_self": null,
            "height": null,
            "min_height": null,
            "padding": null,
            "grid_auto_rows": null,
            "grid_gap": null,
            "max_width": null,
            "order": null,
            "_view_module_version": "1.2.0",
            "grid_template_areas": null,
            "object_position": null,
            "object_fit": null,
            "grid_auto_columns": null,
            "margin": null,
            "display": null,
            "left": null
          }
        },
        "b360278cc9f241a78593050a5bf97669": {
          "model_module": "@jupyter-widgets/controls",
          "model_name": "DescriptionStyleModel",
          "model_module_version": "1.5.0",
          "state": {
            "_view_name": "StyleView",
            "_model_name": "DescriptionStyleModel",
            "description_width": "",
            "_view_module": "@jupyter-widgets/base",
            "_model_module_version": "1.5.0",
            "_view_count": null,
            "_view_module_version": "1.2.0",
            "_model_module": "@jupyter-widgets/controls"
          }
        },
        "d6329c7f9d7c4a16b755184e65c7ca59": {
          "model_module": "@jupyter-widgets/base",
          "model_name": "LayoutModel",
          "model_module_version": "1.2.0",
          "state": {
            "_view_name": "LayoutView",
            "grid_template_rows": null,
            "right": null,
            "justify_content": null,
            "_view_module": "@jupyter-widgets/base",
            "overflow": null,
            "_model_module_version": "1.2.0",
            "_view_count": null,
            "flex_flow": null,
            "width": null,
            "min_width": null,
            "border": null,
            "align_items": null,
            "bottom": null,
            "_model_module": "@jupyter-widgets/base",
            "top": null,
            "grid_column": null,
            "overflow_y": null,
            "overflow_x": null,
            "grid_auto_flow": null,
            "grid_area": null,
            "grid_template_columns": null,
            "flex": null,
            "_model_name": "LayoutModel",
            "justify_items": null,
            "grid_row": null,
            "max_height": null,
            "align_content": null,
            "visibility": null,
            "align_self": null,
            "height": null,
            "min_height": null,
            "padding": null,
            "grid_auto_rows": null,
            "grid_gap": null,
            "max_width": null,
            "order": null,
            "_view_module_version": "1.2.0",
            "grid_template_areas": null,
            "object_position": null,
            "object_fit": null,
            "grid_auto_columns": null,
            "margin": null,
            "display": null,
            "left": null
          }
        }
      }
    }
  },
  "cells": [
    {
      "cell_type": "markdown",
      "source": [
        "# Transfer Learning with SuperGradients\n",
        "\n",
        "In the following tutorial, we will demonstrate how to use SuperGradients to perform transfer learning for object detection. In our scenario, we will try to transfer-learn from our COCO-pretrained YoloV5nano, to a sub-dataset of Pascal VOC that includes the \"person\" class only.\n",
        "\n",
        "In order to do so we will:\n",
        "\n",
        "\n",
        "*   Generate new anchors that are a better fit to our new dataset.\n",
        "*   Load our pretrained YoloV5nano, replace it's anchors and it's detect layers according to the new number of classes (single class)\n",
        "\n",
        "\n",
        "*   Define training parameters.\n",
        "*   Start training!\n",
        "\n",
        "\n",
        "\n"
      ],
      "metadata": {
        "id": "8fHznZSVtlcs"
      }
    },
    {
      "cell_type": "markdown",
      "source": [
        "First, let's install the latest version of super-gradients:"
      ],
      "metadata": {
        "id": "-uBq0TvZvkzx"
      }
    },
    {
      "cell_type": "code",
      "source": [
        "! pip install https://deci-pretrained-models.s3.amazonaws.com/super_gradients-1.5.0rc2428-py3-none-any.whl gwpy &> /dev/null\n",
        "! pip install matplotlib==3.1.3"
      ],
      "metadata": {
        "id": "oGCoY0rRvi2n"
      },
      "execution_count": 15,
      "outputs": []
    },
    {
      "cell_type": "markdown",
      "source": [
        "Imports:"
      ],
      "metadata": {
        "id": "IlQtOpSOvxbJ"
      }
    },
    {
      "cell_type": "code",
      "source": [
        "import super_gradients\n",
        "from super_gradients.training import SgModel, MultiGPUMode\n",
        "from super_gradients.training.datasets.dataset_interfaces.dataset_interface import \\\n",
        "    PascalVOCUnifiedDetectionDataSetInterface\n",
        "from super_gradients.training.models.detection_models.yolov5 import YoloV5PostPredictionCallback\n",
        "from super_gradients.training.utils.detection_utils import base_detection_collate_fn\n",
        "from super_gradients.training.metrics import DetectionMetrics\n",
        "from super_gradients.training.utils.detection_utils import Anchors\n",
        "from super_gradients.training.utils.detection_utils import AnchorGenerator\n",
        "import os\n",
        "super_gradients.init_trainer()"
      ],
      "metadata": {
        "id": "KWdGYx7pSmPJ"
      },
      "execution_count": 16,
      "outputs": []
    },
    {
      "cell_type": "markdown",
      "source": [
        "# Generating new anchors\n",
        "\n",
        "Since our model has been trained with anchors that were a good fit for the 80 classes from COCO dataset, its likely that we can find a better fit for our single class, which intutively has typical bounding boxes for it.\n",
        "\n",
        "Let's start with downloading the data and intializing a dataset interface that we will use for the anchor generation:"
      ],
      "metadata": {
        "id": "WT1CV1qYwkxr"
      }
    },
    {
      "cell_type": "code",
      "source": [
        "dataset_params_anchors = {\"batch_size\": 1,\n",
        "                          \"val_batch_size\": 1,\n",
        "                          \"train_image_size\": 512,\n",
        "                          \"val_image_size\": 512,\n",
        "                          \"train_sample_loading_method\": \"default\",\n",
        "                          \"class_inclusion_list\": ['person'],\n",
        "                          \"download\": True,\n",
        "                          \"data_root\": \"/home/data/pascal_unified_coco_format/\"\n",
        "                          }\n",
        "dataset_interface = PascalVOCUnifiedDetectionDataSetInterface(dataset_params=dataset_params_anchors, cache_labels=True)"
      ],
      "metadata": {
        "colab": {
          "base_uri": "https://localhost:8080/",
          "height": 445,
          "referenced_widgets": [
            "af44e3bfd58748d88bbdc490a8e13820",
            "e448504c159d40f393261d6150e89482",
            "bd421fec23b0494fa2109d22a9e7e0f7",
            "9b8907f2ae04443da6eb934822197596",
            "0cfa2042d24d4bdb9650388890efe6b6",
            "ecf37cd7be3c41b08a20e190b1676ca2",
            "4c72c688ab4841e1b23a12abf25f44a7",
            "9e622b890ae0424abee29fc45935c4d5",
            "6c5d1b139b7842b9a1311429f731d96e",
            "3de89fe6d78148688604c027d745b778",
            "c432f46ad12749858c31467bf837266d",
            "f60b7f6050c74c4bbbf70be6c93b3384",
            "3fb38479a860481ba6756f70e6c79e99",
            "2ebb0ba893f5412285e0fdba0a22713a",
            "9a7be0d0f82041cd847e80856bd8ab6d",
            "55b07f9ed8a64f7f8769e8de29413890",
            "63efb5b5ab4740ab8e5097b53f9a219f",
            "f62565719f65481ea5c4006b1f2c55e4",
            "99ae0d956ba64efaa776b740168f3e2c",
            "e706cada77bf42e38068167994655d42",
            "cc093f0fa0c742bcaefa9f1f2266bf3d",
            "144eb73e2586491bb53a1ce91ddc70b4",
            "9600b01dec0746d9b8fb51d7d053a162",
            "a4db9a96448b4e84bcab60ba3c5d6da9",
            "164b838c52ed4019b36d6ef9cc467926",
            "628a2b592c0c46f4b15c16b8acd1834b",
            "a382070d508649baaa8dba58cf2103da",
            "dc43aba7f2ed4d6cad2cda07398ce5ca",
            "8714bc26c28b41f6aef4f5451d9bf82f",
            "a6e8ecc48ea149b098ba0e38f4e081ed",
            "acf371f72a9a42ea8bfbe615f32a46b2",
            "b360278cc9f241a78593050a5bf97669",
            "d6329c7f9d7c4a16b755184e65c7ca59"
          ]
        },
        "id": "5Rx_8eoTyC4G",
        "outputId": "09a1dd39-bc11-40d4-eb2f-96d36c398848"
      },
      "execution_count": 17,
      "outputs": [
        {
          "output_type": "stream",
          "name": "stdout",
          "text": [
            "Downloading https://github.com/ultralytics/yolov5/releases/download/v1.0/VOCtrainval_06-Nov-2007.zip to /home/data/pascal_unified_coco_format/images/VOCtrainval_06-Nov-2007.zip...\n"
          ]
        },
        {
          "output_type": "display_data",
          "data": {
            "application/vnd.jupyter.widget-view+json": {
              "model_id": "af44e3bfd58748d88bbdc490a8e13820",
              "version_minor": 0,
              "version_major": 2
            },
            "text/plain": [
              "  0%|          | 0.00/425M [00:00<?, ?B/s]"
            ]
          },
          "metadata": {}
        },
        {
          "output_type": "stream",
          "name": "stdout",
          "text": [
            "Unzipping /home/data/pascal_unified_coco_format/images/VOCtrainval_06-Nov-2007.zip...\n",
            "Downloading https://github.com/ultralytics/yolov5/releases/download/v1.0/VOCtest_06-Nov-2007.zip to /home/data/pascal_unified_coco_format/images/VOCtest_06-Nov-2007.zip...\n"
          ]
        },
        {
          "output_type": "display_data",
          "data": {
            "application/vnd.jupyter.widget-view+json": {
              "model_id": "f60b7f6050c74c4bbbf70be6c93b3384",
              "version_minor": 0,
              "version_major": 2
            },
            "text/plain": [
              "  0%|          | 0.00/418M [00:00<?, ?B/s]"
            ]
          },
          "metadata": {}
        },
        {
          "output_type": "stream",
          "name": "stdout",
          "text": [
            "Unzipping /home/data/pascal_unified_coco_format/images/VOCtest_06-Nov-2007.zip...\n",
            "Downloading https://github.com/ultralytics/yolov5/releases/download/v1.0/VOCtrainval_11-May-2012.zip to /home/data/pascal_unified_coco_format/images/VOCtrainval_11-May-2012.zip...\n"
          ]
        },
        {
          "output_type": "display_data",
          "data": {
            "application/vnd.jupyter.widget-view+json": {
              "model_id": "9600b01dec0746d9b8fb51d7d053a162",
              "version_minor": 0,
              "version_major": 2
            },
            "text/plain": [
              "  0%|          | 0.00/1.82G [00:00<?, ?B/s]"
            ]
          },
          "metadata": {}
        },
        {
          "output_type": "stream",
          "name": "stdout",
          "text": [
            "Unzipping /home/data/pascal_unified_coco_format/images/VOCtrainval_11-May-2012.zip...\n"
          ]
        },
        {
          "output_type": "stream",
          "name": "stderr",
          "text": [
            "train2012: 100%|██████████| 5717/5717 [00:08<00:00, 703.02it/s] \n",
            "val2012: 100%|██████████| 5823/5823 [00:03<00:00, 1535.29it/s]\n",
            "train2007: 100%|██████████| 2501/2501 [00:03<00:00, 753.30it/s]\n",
            "val2007: 100%|██████████| 2510/2510 [00:02<00:00, 1040.28it/s]\n",
            "test2007: 100%|██████████| 4952/4952 [00:05<00:00, 853.03it/s] \n",
            "Caching labels (1025 found, 1473 missing, 0 duplicate, for 2501 images): 100%|██████████| 2501/2501 [00:00<00:00, 6420.75it/s]\n",
            "Caching labels (1994 found, 3723 missing, 0 duplicate, for 5717 images): 100%|██████████| 5717/5717 [00:00<00:00, 6736.66it/s]\n",
            "Caching labels (983 found, 1527 missing, 0 duplicate, for 2510 images): 100%|██████████| 2510/2510 [00:00<00:00, 6681.37it/s]\n",
            "Caching labels (2093 found, 3730 missing, 0 duplicate, for 5823 images): 100%|██████████| 5823/5823 [00:00<00:00, 6580.77it/s]\n"
          ]
        },
        {
          "output_type": "stream",
          "name": "stdout",
          "text": [
            "[Errno 2] No such file or directory: '/home/data/pascal_unified_coco_format/images/VOCdevkit/VOC2007/ImageSets/Main/test.shapes'\n"
          ]
        },
        {
          "output_type": "stream",
          "name": "stderr",
          "text": [
            "Reading image shapes: 100%|██████████| 4952/4952 [00:08<00:00, 596.33it/s]\n",
            "Caching labels (2007 found, 2945 missing, 0 duplicate, for 4952 images): 100%|██████████| 4952/4952 [00:00<00:00, 6616.69it/s]\n"
          ]
        }
      ]
    },
    {
      "cell_type": "markdown",
      "source": [
        "Moving on to generating the anchors:"
      ],
      "metadata": {
        "id": "djeWnEMLzKXa"
      }
    },
    {
      "cell_type": "code",
      "source": [
        "anch_gen = AnchorGenerator()\n",
        "anchors = anch_gen(dataset=dataset_interface.trainset, thresh=1/2.91)\n",
        "anchors = Anchors(anchors_list=anchors,\n",
        "                  strides=[8, 16, 32])"
      ],
      "metadata": {
        "colab": {
          "base_uri": "https://localhost:8080/",
          "height": 759
        },
        "id": "ZBsGdFvpzJp_",
        "outputId": "3bae8f7d-bfec-4cb0-acb7-e8697a6d1187"
      },
      "execution_count": 19,
      "outputs": [
        {
          "output_type": "stream",
          "name": "stderr",
          "text": [
            "Reading image shapes: 100%|██████████| 6095/6095 [00:03<00:00, 1606.18it/s]\n"
          ]
        },
        {
          "output_type": "stream",
          "name": "stdout",
          "text": [
            "detection_utils -INFO- Running kmeans for 9 anchors on 13256 points...\n",
            "detection_utils -INFO- Initial results\n",
            "detection_utils -INFO- thr=0.34: 0.9941 best possible recall, 4.93 anchors past thr\n",
            "detection_utils -INFO- num_anchors=9, img_size=512\n",
            "detection_utils -INFO-  metric_all=0.404/0.770-mean/best, past_thr=0.578-mean: \n",
            "29,51,  54,104,  92,159,  101,246,  183,216,  159,338,  271,295,  280,440,  428,338\n"
          ]
        },
        {
          "output_type": "display_data",
          "data": {
            "image/png": "[encoded data removed]",
            "text/plain": [
              "<Figure size 432x288 with 1 Axes>"
            ]
          },
          "metadata": {
            "needs_background": "light"
          }
        },
        {
          "output_type": "stream",
          "name": "stderr",
          "text": [
            "Anchors Generator: Evolving anchors with Genetic Algorithm: fitness = 0.7843: 100%|██████████| 1000/1000 [00:06<00:00, 159.36it/s]"
          ]
        },
        {
          "output_type": "stream",
          "name": "stdout",
          "text": [
            "detection_utils -INFO- Final results\n",
            "detection_utils -INFO- thr=0.34: 0.9978 best possible recall, 4.98 anchors past thr\n",
            "detection_utils -INFO- num_anchors=9, img_size=512\n"
          ]
        },
        {
          "output_type": "stream",
          "name": "stderr",
          "text": [
            "\n"
          ]
        },
        {
          "output_type": "stream",
          "name": "stdout",
          "text": [
            "detection_utils -INFO-  metric_all=0.408/0.785-mean/best, past_thr=0.579-mean: \n",
            "23,47,  36,88,  65,118,  79,217,  123,165,  135,279,  197,251,  244,355,  388,336\n"
          ]
        },
        {
          "output_type": "display_data",
          "data": {
            "image/png": "[encoded data removed]",
            "text/plain": [
              "<Figure size 432x288 with 1 Axes>"
            ]
          },
          "metadata": {
            "needs_background": "light"
          }
        }
      ]
    },
    {
      "cell_type": "markdown",
      "source": [
        "# Defining dataset parameters for training\n",
        "\n",
        "Now that we are done with generating new anchors, let's change our dataset parameters to incorprate augmentations, change the batch size and use mosaic sampling method:"
      ],
      "metadata": {
        "id": "jtoTZyBmSrKl"
      }
    },
    {
      "cell_type": "code",
      "source": [
        "dataset_params = {\"batch_size\": 48,\n",
        "                  \"val_batch_size\": 48,\n",
        "                  \"train_image_size\": 512,\n",
        "                  \"val_image_size\": 512,\n",
        "                  \"val_collate_fn\": base_detection_collate_fn,\n",
        "                  \"train_collate_fn\": base_detection_collate_fn,\n",
        "                  \"train_sample_loading_method\": \"mosaic\",\n",
        "                  \"val_sample_loading_method\": \"default\",\n",
        "                  \"dataset_hyper_param\": {\n",
        "                      \"hsv_h\": 0.015,  # IMAGE HSV-Hue AUGMENTATION (fraction)\n",
        "                      \"hsv_s\": 0.7,  # IMAGE HSV-Saturation AUGMENTATION (fraction)\n",
        "                      \"hsv_v\": 0.4,  # IMAGE HSV-Value AUGMENTATION (fraction)\n",
        "                      \"degrees\": 0.0,  # IMAGE ROTATION (+/- deg)\n",
        "                      \"translate\": 0.1,  # IMAGE TRANSLATION (+/- fraction)\n",
        "                      \"scale\": 0.5,  # IMAGE SCALE (+/- gain)\n",
        "                      \"shear\": 0.0},  # IMAGE SHEAR (+/- deg)\n",
        "                  \"class_inclusion_list\": ['person'],\n",
        "                  \"download\": False,\n",
        "                  \"data_root\": \"/home/data/pascal_unified_coco_format/\"\n",
        "                  }\n"
      ],
      "metadata": {
        "id": "xLrIuLM0SmBJ"
      },
      "execution_count": 20,
      "outputs": []
    },
    {
      "cell_type": "markdown",
      "source": [
        "Initialize an SgModel instance, and a Pascal VOC dataset interface:"
      ],
      "metadata": {
        "id": "OAc2_Bu2S2RD"
      }
    },
    {
      "cell_type": "code",
      "source": [
        "model = SgModel(\"yolov5n_pascal_finetune\", ckpt_root_dir=\"/home/data/notebook_ckpts/\")\n",
        "dataset_interface = PascalVOCUnifiedDetectionDataSetInterface(dataset_params=dataset_params, cache_labels=True)"
      ],
      "metadata": {
        "id": "ZmQGjAisSl4U",
        "colab": {
          "base_uri": "https://localhost:8080/"
        },
        "outputId": "faad1103-eeee-436d-fc9d-02678175aa90"
      },
      "execution_count": 21,
      "outputs": [
        {
          "output_type": "stream",
          "name": "stderr",
          "text": [
            "Caching labels (1025 found, 1473 missing, 0 duplicate, for 2501 images): 100%|██████████| 2501/2501 [00:00<00:00, 6955.33it/s]\n",
            "Caching labels (1994 found, 3723 missing, 0 duplicate, for 5717 images): 100%|██████████| 5717/5717 [00:00<00:00, 7094.31it/s]\n",
            "Caching labels (983 found, 1527 missing, 0 duplicate, for 2510 images): 100%|██████████| 2510/2510 [00:00<00:00, 7150.62it/s]\n",
            "Caching labels (2093 found, 3730 missing, 0 duplicate, for 5823 images): 100%|██████████| 5823/5823 [00:00<00:00, 7140.41it/s]\n",
            "Caching labels (2007 found, 2944 missing, 0 duplicate, for 4952 images): 100%|██████████| 4952/4952 [00:00<00:00, 6904.05it/s]\n"
          ]
        }
      ]
    },
    {
      "cell_type": "markdown",
      "source": [
        "Connecting the dataset interface will set SgModel's classes attribute according to Pascal VOC."
      ],
      "metadata": {
        "id": "UMmCKZXkTCC7"
      }
    },
    {
      "cell_type": "code",
      "source": [
        "model.connect_dataset_interface(dataset_interface, data_loader_num_workers=2)"
      ],
      "metadata": {
        "id": "iAtSC0p8SltZ"
      },
      "execution_count": 22,
      "outputs": []
    },
    {
      "cell_type": "markdown",
      "source": [
        "# Preparing our network for training\n",
        "\n",
        "This is where the magic happens- since SgModels classes atrr was set to be different from coco's, after loading the pretrained YoloV5 nano, it will call it's replace_head method and change it's Detect layer accordingly. Notice we are also passing our newly generated anchors through 'arch_params'.\n",
        "\n"
      ],
      "metadata": {
        "id": "42opzGNx17n4"
      }
    },
    {
      "cell_type": "code",
      "source": [
        "model.build_model(\"yolo_v5n\", arch_params={\"pretrained_weights\": \"coco\", \"anchors\": anchors})"
      ],
      "metadata": {
        "id": "H34Vb4qbTl3S"
      },
      "execution_count": 23,
      "outputs": []
    },
    {
      "cell_type": "markdown",
      "source": [
        "# Defining training parameters\n",
        "\n",
        "Notice we tune the 3 normalizers for the loss according to the network's structure, which can be accessed by SgModel's net attribute."
      ],
      "metadata": {
        "id": "p1CV6NTXToSa"
      }
    },
    {
      "cell_type": "code",
      "source": [
        "# WE NOW TUNE THE 3 NORMALIZERS ACCORDING TO THE NEW DATASET ATTRIBUTES,\n",
        "network = model.net\n",
        "network = network.module if hasattr(network, 'module') else network\n",
        "num_levels = network._head._modules_list[-1].detection_layers_num\n",
        "train_image_size = dataset_params[\"train_image_size\"]\n",
        "\n",
        "num_branches_norm = 3. / num_levels\n",
        "num_classes_norm = len(model.classes) / 80.\n",
        "image_size_norm = train_image_size / 640.\n",
        "\n",
        "# DEFINE TRAINING PARAMS. SEE DOCS FOR THE FULL LIST.\n",
        "training_params = {\"max_epochs\": 50,\n",
        "                   \"lr_mode\": \"cosine\",\n",
        "                   \"initial_lr\": 0.0032,\n",
        "                   \"cosine_final_lr_ratio\": 0.12,\n",
        "                   \"lr_warmup_epochs\": 2,\n",
        "                   \"warmup_bias_lr\": 0.05,  # LR TO START FROM DURING WARMUP (DROPS DOWN DURING WARMUP EPOCHS) FOR BIAS.\n",
        "                   \"loss\": \"yolo_v5_loss\",\n",
        "                   \"criterion_params\": {\"anchors\": anchors,\n",
        "                                        \"box_loss_gain\": 0.0296 * num_branches_norm,\n",
        "                                        # COEF FOR BOX LOSS COMPONENT, NORMALIZED\n",
        "                                        \"cls_loss_gain\": 0.243 * num_classes_norm * num_branches_norm,\n",
        "                                        # COEF FOR CLASSIFICATION\n",
        "                                        # LOSS COMPONENT, NORMALIZED\n",
        "                                        \"cls_pos_weight\": 0.631,  # CLASSIFICATION BCE POSITIVE CLASS WEIGHT\n",
        "                                        \"obj_loss_gain\": 0.301 * image_size_norm ** 2 * num_branches_norm,\n",
        "                                        # OBJECT BCE COEF, NORMALIZED\n",
        "                                        \"obj_pos_weight\": 0.911,  # OBJECT BCE POSITIVE CLASS WEIGHT\n",
        "                                        \"anchor_threshold\": 2.91  # RATIO DEFINING THE SIZE RANGE OF AN ANCHOR.\n",
        "                                        },\n",
        "                   \"optimizer\": \"SGD\",\n",
        "                   \"warmup_momentum\": 0.5,\n",
        "                   \"optimizer_params\": {\"momentum\": 0.9,  # 0.843,\n",
        "                                        \"weight_decay\": 0.0001,  # 0.00036,\n",
        "                                        \"nesterov\": True},\n",
        "                   \"ema\": True,\n",
        "                   \"train_metrics_list\": [],\n",
        "                   \"valid_metrics_list\": [DetectionMetrics(post_prediction_callback=YoloV5PostPredictionCallback(),\n",
        "                                                           num_cls=len(\n",
        "                                                               dataset_interface.classes))],\n",
        "                   \"loss_logging_items_names\": [\"GIoU\", \"obj\", \"cls\", \"Loss\"],\n",
        "                   \"metric_to_watch\": \"mAP@0.50:0.95\",\n",
        "                   \"greater_metric_to_watch_is_better\": True,\n",
        "                   \"warmup_mode\": \"yolov5_warmup\"}\n"
      ],
      "metadata": {
        "id": "pZSGQfMVUJpT"
      },
      "execution_count": 24,
      "outputs": []
    },
    {
      "cell_type": "markdown",
      "source": [
        "Finally, call train!"
      ],
      "metadata": {
        "id": "NLYhy0vAUQFK"
      }
    },
    {
      "cell_type": "code",
      "source": [
        "model.train(training_params=training_params)"
      ],
      "metadata": {
        "colab": {
          "base_uri": "https://localhost:8080/"
        },
        "id": "-3bYFeR4HPOY",
        "outputId": "11b97dd2-098d-49b5-a7ca-3bf07cc9511d"
      },
      "execution_count": 25,
      "outputs": [
        {
          "output_type": "stream",
          "name": "stdout",
          "text": [
            "sg_model -INFO- Using EMA with params {}\n",
            "\"events.out.tfevents.1642522144.1ea6bc80ab08.498.0\" will not be deleted\n",
            "sg_model -INFO- Started training for 50 epochs (0/49)\n",
            "\n"
          ]
        },
        {
          "output_type": "stream",
          "name": "stderr",
          "text": [
            "Train epoch 0:   0%|          | 0/127 [00:00<?, ?it/s]/usr/local/lib/python3.7/dist-packages/torch/cuda/memory.py:386: FutureWarning: torch.cuda.memory_cached has been renamed to torch.cuda.memory_reserved\n",
            "  FutureWarning)\n",
            "Train epoch 0:  17%|█▋        | 22/127 [00:43<03:28,  1.99s/it, GIoU=2.28, Loss=0.078, cls=0, gpu_mem=5.44, obj=0.0547]"
          ]
        },
        {
          "output_type": "stream",
          "name": "stdout",
          "text": [
            "sg_model -INFO- \n",
            "[MODEL TRAINING EXECUTION HAS BEEN INTERRUPTED]... Please wait until SOFT-TERMINATION process finishes and saves all of the Model Checkpoints and log files before terminating...\n",
            "sg_model -INFO- For HARD Termination - Stop the process again\n"
          ]
        },
        {
          "output_type": "stream",
          "name": "stderr",
          "text": [
            "\n"
          ]
        }
      ]
    }
  ]
}